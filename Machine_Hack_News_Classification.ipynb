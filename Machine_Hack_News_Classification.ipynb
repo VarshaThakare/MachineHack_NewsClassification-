{
 "cells": [
  {
   "cell_type": "markdown",
   "id": "8c71065b",
   "metadata": {},
   "source": [
    "# Imports"
   ]
  },
  {
   "cell_type": "code",
   "execution_count": 1,
   "id": "e1a947f3",
   "metadata": {},
   "outputs": [],
   "source": [
    "import pandas as pd\n",
    "import numpy as np\n",
    "import seaborn as sns\n",
    "from matplotlib import pyplot as plt\n",
    "import re\n",
    "import string\n",
    "from nltk.corpus import stopwords\n",
    "from nltk.corpus import wordnet\n",
    "from nltk.stem import WordNetLemmatizer\n",
    "import nltk\n",
    "from langdetect import detect\n",
    "from tqdm import tqdm"
   ]
  },
  {
   "cell_type": "markdown",
   "id": "b8e25d29",
   "metadata": {},
   "source": [
    "# Reading inputs"
   ]
  },
  {
   "cell_type": "code",
   "execution_count": 2,
   "id": "5a87e2ad",
   "metadata": {},
   "outputs": [],
   "source": [
    "data_train = pd.read_excel(\"Data_Train.xlsx\")\n",
    "data_test = pd.read_excel(\"Data_Test.xlsx\")"
   ]
  },
  {
   "cell_type": "code",
   "execution_count": 3,
   "id": "1a3e3843",
   "metadata": {},
   "outputs": [
    {
     "data": {
      "text/html": [
       "<div>\n",
       "<style scoped>\n",
       "    .dataframe tbody tr th:only-of-type {\n",
       "        vertical-align: middle;\n",
       "    }\n",
       "\n",
       "    .dataframe tbody tr th {\n",
       "        vertical-align: top;\n",
       "    }\n",
       "\n",
       "    .dataframe thead th {\n",
       "        text-align: right;\n",
       "    }\n",
       "</style>\n",
       "<table border=\"1\" class=\"dataframe\">\n",
       "  <thead>\n",
       "    <tr style=\"text-align: right;\">\n",
       "      <th></th>\n",
       "      <th>STORY</th>\n",
       "      <th>SECTION</th>\n",
       "    </tr>\n",
       "  </thead>\n",
       "  <tbody>\n",
       "    <tr>\n",
       "      <th>0</th>\n",
       "      <td>But the most painful was the huge reversal in ...</td>\n",
       "      <td>3</td>\n",
       "    </tr>\n",
       "    <tr>\n",
       "      <th>1</th>\n",
       "      <td>How formidable is the opposition alliance amon...</td>\n",
       "      <td>0</td>\n",
       "    </tr>\n",
       "    <tr>\n",
       "      <th>2</th>\n",
       "      <td>Most Asian currencies were trading lower today...</td>\n",
       "      <td>3</td>\n",
       "    </tr>\n",
       "    <tr>\n",
       "      <th>3</th>\n",
       "      <td>If you want to answer any question, click on ‘...</td>\n",
       "      <td>1</td>\n",
       "    </tr>\n",
       "    <tr>\n",
       "      <th>4</th>\n",
       "      <td>In global markets, gold prices edged up today ...</td>\n",
       "      <td>3</td>\n",
       "    </tr>\n",
       "  </tbody>\n",
       "</table>\n",
       "</div>"
      ],
      "text/plain": [
       "                                               STORY  SECTION\n",
       "0  But the most painful was the huge reversal in ...        3\n",
       "1  How formidable is the opposition alliance amon...        0\n",
       "2  Most Asian currencies were trading lower today...        3\n",
       "3  If you want to answer any question, click on ‘...        1\n",
       "4  In global markets, gold prices edged up today ...        3"
      ]
     },
     "execution_count": 3,
     "metadata": {},
     "output_type": "execute_result"
    }
   ],
   "source": [
    "data_train.head(5)"
   ]
  },
  {
   "cell_type": "code",
   "execution_count": 4,
   "id": "e5eb94ac",
   "metadata": {},
   "outputs": [
    {
     "data": {
      "text/html": [
       "<div>\n",
       "<style scoped>\n",
       "    .dataframe tbody tr th:only-of-type {\n",
       "        vertical-align: middle;\n",
       "    }\n",
       "\n",
       "    .dataframe tbody tr th {\n",
       "        vertical-align: top;\n",
       "    }\n",
       "\n",
       "    .dataframe thead th {\n",
       "        text-align: right;\n",
       "    }\n",
       "</style>\n",
       "<table border=\"1\" class=\"dataframe\">\n",
       "  <thead>\n",
       "    <tr style=\"text-align: right;\">\n",
       "      <th></th>\n",
       "      <th>STORY</th>\n",
       "    </tr>\n",
       "  </thead>\n",
       "  <tbody>\n",
       "    <tr>\n",
       "      <th>0</th>\n",
       "      <td>2019 will see gadgets like gaming smartphones ...</td>\n",
       "    </tr>\n",
       "    <tr>\n",
       "      <th>1</th>\n",
       "      <td>It has also unleashed a wave of changes in the...</td>\n",
       "    </tr>\n",
       "    <tr>\n",
       "      <th>2</th>\n",
       "      <td>It can be confusing to pick the right smartpho...</td>\n",
       "    </tr>\n",
       "    <tr>\n",
       "      <th>3</th>\n",
       "      <td>The mobile application is integrated with a da...</td>\n",
       "    </tr>\n",
       "    <tr>\n",
       "      <th>4</th>\n",
       "      <td>We have rounded up some of the gadgets that sh...</td>\n",
       "    </tr>\n",
       "  </tbody>\n",
       "</table>\n",
       "</div>"
      ],
      "text/plain": [
       "                                               STORY\n",
       "0  2019 will see gadgets like gaming smartphones ...\n",
       "1  It has also unleashed a wave of changes in the...\n",
       "2  It can be confusing to pick the right smartpho...\n",
       "3  The mobile application is integrated with a da...\n",
       "4  We have rounded up some of the gadgets that sh..."
      ]
     },
     "execution_count": 4,
     "metadata": {},
     "output_type": "execute_result"
    }
   ],
   "source": [
    "data_test.head(5)"
   ]
  },
  {
   "cell_type": "markdown",
   "id": "17ccc1a7",
   "metadata": {},
   "source": [
    "# Basic EDA"
   ]
  },
  {
   "cell_type": "markdown",
   "id": "173258db",
   "metadata": {},
   "source": [
    "## Checking for imbalance"
   ]
  },
  {
   "cell_type": "code",
   "execution_count": 5,
   "id": "2909ff4f",
   "metadata": {},
   "outputs": [
    {
     "data": {
      "text/plain": [
       "1    2772\n",
       "2    1924\n",
       "0    1686\n",
       "3    1246\n",
       "Name: SECTION, dtype: int64"
      ]
     },
     "execution_count": 5,
     "metadata": {},
     "output_type": "execute_result"
    }
   ],
   "source": [
    "data_train['SECTION'].value_counts()"
   ]
  },
  {
   "cell_type": "code",
   "execution_count": 6,
   "id": "07fd4940",
   "metadata": {},
   "outputs": [
    {
     "data": {
      "text/plain": [
       "1    0.363398\n",
       "2    0.252229\n",
       "0    0.221028\n",
       "3    0.163346\n",
       "Name: SECTION, dtype: float64"
      ]
     },
     "execution_count": 6,
     "metadata": {},
     "output_type": "execute_result"
    }
   ],
   "source": [
    "(data_train['SECTION'].value_counts()) / len(data_train)"
   ]
  },
  {
   "cell_type": "code",
   "execution_count": 7,
   "id": "489b7bd9",
   "metadata": {},
   "outputs": [
    {
     "name": "stderr",
     "output_type": "stream",
     "text": [
      "C:\\Users\\varsh\\anaconda3\\lib\\site-packages\\seaborn\\_decorators.py:36: FutureWarning: Pass the following variable as a keyword arg: x. From version 0.12, the only valid positional argument will be `data`, and passing other arguments without an explicit keyword will result in an error or misinterpretation.\n",
      "  warnings.warn(\n"
     ]
    },
    {
     "data": {
      "text/plain": [
       "<AxesSubplot:xlabel='SECTION', ylabel='count'>"
      ]
     },
     "execution_count": 7,
     "metadata": {},
     "output_type": "execute_result"
    },
    {
     "data": {
      "image/png": "[encoded data removed]",
      "text/plain": [
       "<Figure size 576x360 with 1 Axes>"
      ]
     },
     "metadata": {
      "needs_background": "light"
     },
     "output_type": "display_data"
    }
   ],
   "source": [
    "plt.figure(figsize=(8,5))\n",
    "sns.countplot(data_train['SECTION'])"
   ]
  },
  {
   "cell_type": "raw",
   "id": "4e59f1ae",
   "metadata": {},
   "source": [
    "Data is not sevearly imbalanced, so we can proceed with the current data that is without taking any measuers for imbalance."
   ]
  },
  {
   "cell_type": "code",
   "execution_count": 8,
   "id": "7d682135",
   "metadata": {},
   "outputs": [
    {
     "data": {
      "text/plain": [
       "0    But the most painful was the huge reversal in ...\n",
       "1    How formidable is the opposition alliance amon...\n",
       "2    Most Asian currencies were trading lower today...\n",
       "3    If you want to answer any question, click on ‘...\n",
       "4    In global markets, gold prices edged up today ...\n",
       "Name: STORY, dtype: object"
      ]
     },
     "execution_count": 8,
     "metadata": {},
     "output_type": "execute_result"
    }
   ],
   "source": [
    "data_train['STORY'].head()"
   ]
  },
  {
   "cell_type": "markdown",
   "id": "dc689e1a",
   "metadata": {},
   "source": [
    "### Extracting number of characters and numbers of words."
   ]
  },
  {
   "cell_type": "code",
   "execution_count": 9,
   "id": "74e7747e",
   "metadata": {},
   "outputs": [],
   "source": [
    "data_train['nwords'] = data_train['STORY'].apply(lambda row: len(row.split()))\n",
    "data_train['length'] = data_train['STORY'].apply(lambda row: len(row))"
   ]
  },
  {
   "cell_type": "code",
   "execution_count": 10,
   "id": "da1ff59a",
   "metadata": {},
   "outputs": [
    {
     "data": {
      "text/html": [
       "<div>\n",
       "<style scoped>\n",
       "    .dataframe tbody tr th:only-of-type {\n",
       "        vertical-align: middle;\n",
       "    }\n",
       "\n",
       "    .dataframe tbody tr th {\n",
       "        vertical-align: top;\n",
       "    }\n",
       "\n",
       "    .dataframe thead th {\n",
       "        text-align: right;\n",
       "    }\n",
       "</style>\n",
       "<table border=\"1\" class=\"dataframe\">\n",
       "  <thead>\n",
       "    <tr style=\"text-align: right;\">\n",
       "      <th></th>\n",
       "      <th>STORY</th>\n",
       "      <th>SECTION</th>\n",
       "      <th>nwords</th>\n",
       "      <th>length</th>\n",
       "    </tr>\n",
       "  </thead>\n",
       "  <tbody>\n",
       "    <tr>\n",
       "      <th>0</th>\n",
       "      <td>But the most painful was the huge reversal in ...</td>\n",
       "      <td>3</td>\n",
       "      <td>148</td>\n",
       "      <td>843</td>\n",
       "    </tr>\n",
       "    <tr>\n",
       "      <th>1</th>\n",
       "      <td>How formidable is the opposition alliance amon...</td>\n",
       "      <td>0</td>\n",
       "      <td>17</td>\n",
       "      <td>129</td>\n",
       "    </tr>\n",
       "    <tr>\n",
       "      <th>2</th>\n",
       "      <td>Most Asian currencies were trading lower today...</td>\n",
       "      <td>3</td>\n",
       "      <td>58</td>\n",
       "      <td>386</td>\n",
       "    </tr>\n",
       "    <tr>\n",
       "      <th>3</th>\n",
       "      <td>If you want to answer any question, click on ‘...</td>\n",
       "      <td>1</td>\n",
       "      <td>103</td>\n",
       "      <td>587</td>\n",
       "    </tr>\n",
       "    <tr>\n",
       "      <th>4</th>\n",
       "      <td>In global markets, gold prices edged up today ...</td>\n",
       "      <td>3</td>\n",
       "      <td>46</td>\n",
       "      <td>299</td>\n",
       "    </tr>\n",
       "  </tbody>\n",
       "</table>\n",
       "</div>"
      ],
      "text/plain": [
       "                                               STORY  SECTION  nwords  length\n",
       "0  But the most painful was the huge reversal in ...        3     148     843\n",
       "1  How formidable is the opposition alliance amon...        0      17     129\n",
       "2  Most Asian currencies were trading lower today...        3      58     386\n",
       "3  If you want to answer any question, click on ‘...        1     103     587\n",
       "4  In global markets, gold prices edged up today ...        3      46     299"
      ]
     },
     "execution_count": 10,
     "metadata": {},
     "output_type": "execute_result"
    }
   ],
   "source": [
    "data_train.head()"
   ]
  },
  {
   "cell_type": "markdown",
   "id": "26749918",
   "metadata": {},
   "source": [
    "## Checking PDF's for nwords with section as hue"
   ]
  },
  {
   "cell_type": "code",
   "execution_count": 11,
   "id": "afca80e4",
   "metadata": {},
   "outputs": [
    {
     "data": {
      "text/plain": [
       "<AxesSubplot:xlabel='SECTION', ylabel='nwords'>"
      ]
     },
     "execution_count": 11,
     "metadata": {},
     "output_type": "execute_result"
    },
    {
     "data": {
      "image/png": "[encoded data removed]",
      "text/plain": [
       "<Figure size 720x576 with 1 Axes>"
      ]
     },
     "metadata": {
      "needs_background": "light"
     },
     "output_type": "display_data"
    }
   ],
   "source": [
    "plt.figure(figsize= (10,8))\n",
    "sns.boxplot(x = data_train['SECTION'], y = data_train['nwords'])"
   ]
  },
  {
   "cell_type": "raw",
   "id": "5181867b",
   "metadata": {},
   "source": [
    "1. class 3 has less than 400 words.\n",
    "2. class 1 has maximum words i.e.1000\n",
    "3. In class 2 most of the data lies between 0 to 100. if data belong 0 to 100 words, we can confidently say data belong to class 2.\n",
    "   Class 2 has the least overlap with other classes, so nwords, might help a bit in separating class 2 from rest.\n",
    "4. if data is more than 400 than there is high chance it will not belong to class 3.\n",
    "5. if data is more than 800 that there is high chance it will belong o class 0 or 1. "
   ]
  },
  {
   "cell_type": "code",
   "execution_count": 12,
   "id": "ed62ab80",
   "metadata": {},
   "outputs": [
    {
     "data": {
      "text/plain": [
       "<AxesSubplot:xlabel='SECTION', ylabel='length'>"
      ]
     },
     "execution_count": 12,
     "metadata": {},
     "output_type": "execute_result"
    },
    {
     "data": {
      "image/png": "[encoded data removed]",
      "text/plain": [
       "<Figure size 720x576 with 1 Axes>"
      ]
     },
     "metadata": {
      "needs_background": "light"
     },
     "output_type": "display_data"
    }
   ],
   "source": [
    "plt.figure(figsize= (10,8))\n",
    "sns.boxplot(x = data_train['SECTION'], y = data_train['length'])"
   ]
  },
  {
   "cell_type": "markdown",
   "id": "10086650",
   "metadata": {},
   "source": [
    "1. Compared to length, nowords feature can better separate class 0 and 1 on higher values of the feature.\n",
    "2. Other classes length feature exibits same behavior as nwords. \n",
    "3. We can choose to drop length."
   ]
  },
  {
   "cell_type": "markdown",
   "id": "cdb872d4",
   "metadata": {},
   "source": [
    "#### Create two new features \n",
    "1. no. of punctuation\n",
    "2. no. of stop words\n"
   ]
  },
  {
   "cell_type": "markdown",
   "id": "89519767",
   "metadata": {},
   "source": [
    "#### using apply"
   ]
  },
  {
   "cell_type": "code",
   "execution_count": 13,
   "id": "ad50fb3c",
   "metadata": {},
   "outputs": [],
   "source": [
    "def count_punct_apply(row):\n",
    "    count = 0\n",
    "    for char in row: \n",
    "        #print(char)\n",
    "            if char in string.punctuation:\n",
    "                count = count + 1\n",
    "            \n",
    "            \n",
    "    return count"
   ]
  },
  {
   "cell_type": "code",
   "execution_count": 14,
   "id": "03f4f90c",
   "metadata": {},
   "outputs": [
    {
     "data": {
      "text/plain": [
       "0       12\n",
       "1        6\n",
       "2       31\n",
       "3       12\n",
       "4       10\n",
       "        ..\n",
       "7623     9\n",
       "7624     2\n",
       "7625    10\n",
       "7626    54\n",
       "7627    16\n",
       "Name: STORY, Length: 7628, dtype: int64"
      ]
     },
     "execution_count": 14,
     "metadata": {},
     "output_type": "execute_result"
    }
   ],
   "source": [
    "data_train['STORY'].apply(count_punct_apply)"
   ]
  },
  {
   "cell_type": "code",
   "execution_count": 15,
   "id": "a1c8ab72",
   "metadata": {},
   "outputs": [],
   "source": [
    "punct_re = re.compile(r'[^\\w\\s]')"
   ]
  },
  {
   "cell_type": "code",
   "execution_count": 16,
   "id": "2a83544d",
   "metadata": {},
   "outputs": [],
   "source": [
    "data_train['count_punct'] = data_train['STORY'].apply(lambda x:len(punct_re.findall(x)))"
   ]
  },
  {
   "cell_type": "code",
   "execution_count": 17,
   "id": "f4f871ac",
   "metadata": {},
   "outputs": [
    {
     "data": {
      "text/html": [
       "<div>\n",
       "<style scoped>\n",
       "    .dataframe tbody tr th:only-of-type {\n",
       "        vertical-align: middle;\n",
       "    }\n",
       "\n",
       "    .dataframe tbody tr th {\n",
       "        vertical-align: top;\n",
       "    }\n",
       "\n",
       "    .dataframe thead th {\n",
       "        text-align: right;\n",
       "    }\n",
       "</style>\n",
       "<table border=\"1\" class=\"dataframe\">\n",
       "  <thead>\n",
       "    <tr style=\"text-align: right;\">\n",
       "      <th></th>\n",
       "      <th>STORY</th>\n",
       "      <th>SECTION</th>\n",
       "      <th>nwords</th>\n",
       "      <th>length</th>\n",
       "      <th>count_punct</th>\n",
       "    </tr>\n",
       "  </thead>\n",
       "  <tbody>\n",
       "    <tr>\n",
       "      <th>0</th>\n",
       "      <td>But the most painful was the huge reversal in ...</td>\n",
       "      <td>3</td>\n",
       "      <td>148</td>\n",
       "      <td>843</td>\n",
       "      <td>13</td>\n",
       "    </tr>\n",
       "    <tr>\n",
       "      <th>1</th>\n",
       "      <td>How formidable is the opposition alliance amon...</td>\n",
       "      <td>0</td>\n",
       "      <td>17</td>\n",
       "      <td>129</td>\n",
       "      <td>6</td>\n",
       "    </tr>\n",
       "    <tr>\n",
       "      <th>2</th>\n",
       "      <td>Most Asian currencies were trading lower today...</td>\n",
       "      <td>3</td>\n",
       "      <td>58</td>\n",
       "      <td>386</td>\n",
       "      <td>32</td>\n",
       "    </tr>\n",
       "    <tr>\n",
       "      <th>3</th>\n",
       "      <td>If you want to answer any question, click on ‘...</td>\n",
       "      <td>1</td>\n",
       "      <td>103</td>\n",
       "      <td>587</td>\n",
       "      <td>15</td>\n",
       "    </tr>\n",
       "    <tr>\n",
       "      <th>4</th>\n",
       "      <td>In global markets, gold prices edged up today ...</td>\n",
       "      <td>3</td>\n",
       "      <td>46</td>\n",
       "      <td>299</td>\n",
       "      <td>10</td>\n",
       "    </tr>\n",
       "  </tbody>\n",
       "</table>\n",
       "</div>"
      ],
      "text/plain": [
       "                                               STORY  SECTION  nwords  length  \\\n",
       "0  But the most painful was the huge reversal in ...        3     148     843   \n",
       "1  How formidable is the opposition alliance amon...        0      17     129   \n",
       "2  Most Asian currencies were trading lower today...        3      58     386   \n",
       "3  If you want to answer any question, click on ‘...        1     103     587   \n",
       "4  In global markets, gold prices edged up today ...        3      46     299   \n",
       "\n",
       "   count_punct  \n",
       "0           13  \n",
       "1            6  \n",
       "2           32  \n",
       "3           15  \n",
       "4           10  "
      ]
     },
     "execution_count": 17,
     "metadata": {},
     "output_type": "execute_result"
    }
   ],
   "source": [
    "data_train.head()"
   ]
  },
  {
   "cell_type": "markdown",
   "id": "1cb1024a",
   "metadata": {},
   "source": [
    "#### using apply and lambda"
   ]
  },
  {
   "cell_type": "code",
   "execution_count": 18,
   "id": "8e87fe5a",
   "metadata": {},
   "outputs": [],
   "source": [
    "STOPWORDS = set(stopwords.words('english')+['im','wont','ive'])\n",
    "def count_stopwords_apply(row):\n",
    "    count = 0\n",
    "    for char in row: \n",
    "        #print(char)\n",
    "            if char in STOPWORDS:\n",
    "                count = count + 1\n",
    "            \n",
    "            \n",
    "    return count"
   ]
  },
  {
   "cell_type": "code",
   "execution_count": 19,
   "id": "c821bfa2",
   "metadata": {},
   "outputs": [],
   "source": [
    "#data_train['STORY'].apply(lambda x: len([i for) i in x.split() if i in STOPWORDS]))\n",
    "data_train['count_stopwords'] = data_train['STORY'].apply(count_stopwords_apply)"
   ]
  },
  {
   "cell_type": "code",
   "execution_count": 20,
   "id": "d50b31e8",
   "metadata": {},
   "outputs": [
    {
     "data": {
      "text/html": [
       "<div>\n",
       "<style scoped>\n",
       "    .dataframe tbody tr th:only-of-type {\n",
       "        vertical-align: middle;\n",
       "    }\n",
       "\n",
       "    .dataframe tbody tr th {\n",
       "        vertical-align: top;\n",
       "    }\n",
       "\n",
       "    .dataframe thead th {\n",
       "        text-align: right;\n",
       "    }\n",
       "</style>\n",
       "<table border=\"1\" class=\"dataframe\">\n",
       "  <thead>\n",
       "    <tr style=\"text-align: right;\">\n",
       "      <th></th>\n",
       "      <th>STORY</th>\n",
       "      <th>SECTION</th>\n",
       "      <th>nwords</th>\n",
       "      <th>length</th>\n",
       "      <th>count_punct</th>\n",
       "      <th>count_stopwords</th>\n",
       "    </tr>\n",
       "  </thead>\n",
       "  <tbody>\n",
       "    <tr>\n",
       "      <th>0</th>\n",
       "      <td>But the most painful was the huge reversal in ...</td>\n",
       "      <td>3</td>\n",
       "      <td>148</td>\n",
       "      <td>843</td>\n",
       "      <td>13</td>\n",
       "      <td>313</td>\n",
       "    </tr>\n",
       "    <tr>\n",
       "      <th>1</th>\n",
       "      <td>How formidable is the opposition alliance amon...</td>\n",
       "      <td>0</td>\n",
       "      <td>17</td>\n",
       "      <td>129</td>\n",
       "      <td>6</td>\n",
       "      <td>48</td>\n",
       "    </tr>\n",
       "    <tr>\n",
       "      <th>2</th>\n",
       "      <td>Most Asian currencies were trading lower today...</td>\n",
       "      <td>3</td>\n",
       "      <td>58</td>\n",
       "      <td>386</td>\n",
       "      <td>32</td>\n",
       "      <td>112</td>\n",
       "    </tr>\n",
       "    <tr>\n",
       "      <th>3</th>\n",
       "      <td>If you want to answer any question, click on ‘...</td>\n",
       "      <td>1</td>\n",
       "      <td>103</td>\n",
       "      <td>587</td>\n",
       "      <td>15</td>\n",
       "      <td>193</td>\n",
       "    </tr>\n",
       "    <tr>\n",
       "      <th>4</th>\n",
       "      <td>In global markets, gold prices edged up today ...</td>\n",
       "      <td>3</td>\n",
       "      <td>46</td>\n",
       "      <td>299</td>\n",
       "      <td>10</td>\n",
       "      <td>112</td>\n",
       "    </tr>\n",
       "  </tbody>\n",
       "</table>\n",
       "</div>"
      ],
      "text/plain": [
       "                                               STORY  SECTION  nwords  length  \\\n",
       "0  But the most painful was the huge reversal in ...        3     148     843   \n",
       "1  How formidable is the opposition alliance amon...        0      17     129   \n",
       "2  Most Asian currencies were trading lower today...        3      58     386   \n",
       "3  If you want to answer any question, click on ‘...        1     103     587   \n",
       "4  In global markets, gold prices edged up today ...        3      46     299   \n",
       "\n",
       "   count_punct  count_stopwords  \n",
       "0           13              313  \n",
       "1            6               48  \n",
       "2           32              112  \n",
       "3           15              193  \n",
       "4           10              112  "
      ]
     },
     "execution_count": 20,
     "metadata": {},
     "output_type": "execute_result"
    }
   ],
   "source": [
    "data_train.head()"
   ]
  },
  {
   "cell_type": "markdown",
   "id": "eaa8d8ae",
   "metadata": {},
   "source": [
    "box plot for above these and conclusion"
   ]
  },
  {
   "cell_type": "code",
   "execution_count": 21,
   "id": "362ded7b",
   "metadata": {},
   "outputs": [
    {
     "data": {
      "text/plain": [
       "<AxesSubplot:xlabel='SECTION', ylabel='count_stopwords'>"
      ]
     },
     "execution_count": 21,
     "metadata": {},
     "output_type": "execute_result"
    },
    {
     "data": {
      "image/png": "[encoded data removed]",
      "text/plain": [
       "<Figure size 720x576 with 1 Axes>"
      ]
     },
     "metadata": {
      "needs_background": "light"
     },
     "output_type": "display_data"
    }
   ],
   "source": [
    "plt.figure(figsize=(10,8))\n",
    "sns.boxplot(x = data_train['SECTION'], y = data_train['count_stopwords'])"
   ]
  },
  {
   "cell_type": "markdown",
   "id": "de443266",
   "metadata": {},
   "source": [
    "### Conclusion:\n",
    "    1. if data contain above 2500 stopwords we can confidently says that it belong to class 1.\n",
    "    2. if data contain above 750 there are high chance it wil not belong to class 3.\n",
    "    3. Class 2 has least overlap with other classes so stopwords, might help a bit in separating class 2 from rest.\n",
    "    4. if data is more than 1300 than there is high chance it will not belong to class 0 or class 1.\n",
    "    5. if data is less than 1300 that there is high chance it will belong to class 2 or 3."
   ]
  },
  {
   "cell_type": "code",
   "execution_count": 22,
   "id": "d8b40772",
   "metadata": {},
   "outputs": [
    {
     "data": {
      "text/plain": [
       "<AxesSubplot:xlabel='SECTION', ylabel='count_punct'>"
      ]
     },
     "execution_count": 22,
     "metadata": {},
     "output_type": "execute_result"
    },
    {
     "data": {
      "image/png": "[encoded data removed]",
      "text/plain": [
       "<Figure size 720x576 with 1 Axes>"
      ]
     },
     "metadata": {
      "needs_background": "light"
     },
     "output_type": "display_data"
    }
   ],
   "source": [
    "plt.figure(figsize=(10,8))\n",
    "sns.boxplot(x = data_train['SECTION'], y = data_train['count_punct'])"
   ]
  },
  {
   "cell_type": "markdown",
   "id": "4f47da6d",
   "metadata": {},
   "source": [
    "### Conclusion:\n",
    "1. Compared to count_punct, stopwords feature can better separate class 0 and 1 on higher values of the feature.\n",
    "2. Other classes in count_punct and stopwords are same."
   ]
  },
  {
   "cell_type": "markdown",
   "id": "3f82e504",
   "metadata": {},
   "source": [
    "### correlation matrix for numericals features."
   ]
  },
  {
   "cell_type": "code",
   "execution_count": 23,
   "id": "6be7dc37",
   "metadata": {},
   "outputs": [
    {
     "data": {
      "text/html": [
       "<div>\n",
       "<style scoped>\n",
       "    .dataframe tbody tr th:only-of-type {\n",
       "        vertical-align: middle;\n",
       "    }\n",
       "\n",
       "    .dataframe tbody tr th {\n",
       "        vertical-align: top;\n",
       "    }\n",
       "\n",
       "    .dataframe thead th {\n",
       "        text-align: right;\n",
       "    }\n",
       "</style>\n",
       "<table border=\"1\" class=\"dataframe\">\n",
       "  <thead>\n",
       "    <tr style=\"text-align: right;\">\n",
       "      <th></th>\n",
       "      <th>nwords</th>\n",
       "      <th>length</th>\n",
       "      <th>count_punct</th>\n",
       "      <th>count_stopwords</th>\n",
       "    </tr>\n",
       "  </thead>\n",
       "  <tbody>\n",
       "    <tr>\n",
       "      <th>nwords</th>\n",
       "      <td>1.000000</td>\n",
       "      <td>0.996203</td>\n",
       "      <td>0.904619</td>\n",
       "      <td>0.990376</td>\n",
       "    </tr>\n",
       "    <tr>\n",
       "      <th>length</th>\n",
       "      <td>0.996203</td>\n",
       "      <td>1.000000</td>\n",
       "      <td>0.908212</td>\n",
       "      <td>0.996177</td>\n",
       "    </tr>\n",
       "    <tr>\n",
       "      <th>count_punct</th>\n",
       "      <td>0.904619</td>\n",
       "      <td>0.908212</td>\n",
       "      <td>1.000000</td>\n",
       "      <td>0.890713</td>\n",
       "    </tr>\n",
       "    <tr>\n",
       "      <th>count_stopwords</th>\n",
       "      <td>0.990376</td>\n",
       "      <td>0.996177</td>\n",
       "      <td>0.890713</td>\n",
       "      <td>1.000000</td>\n",
       "    </tr>\n",
       "  </tbody>\n",
       "</table>\n",
       "</div>"
      ],
      "text/plain": [
       "                   nwords    length  count_punct  count_stopwords\n",
       "nwords           1.000000  0.996203     0.904619         0.990376\n",
       "length           0.996203  1.000000     0.908212         0.996177\n",
       "count_punct      0.904619  0.908212     1.000000         0.890713\n",
       "count_stopwords  0.990376  0.996177     0.890713         1.000000"
      ]
     },
     "execution_count": 23,
     "metadata": {},
     "output_type": "execute_result"
    }
   ],
   "source": [
    "corr = data_train.drop(columns = ['SECTION']).corr()\n",
    "corr"
   ]
  },
  {
   "cell_type": "code",
   "execution_count": 24,
   "id": "19bafc0e",
   "metadata": {},
   "outputs": [
    {
     "data": {
      "image/png": "[encoded data removed]",
      "text/plain": [
       "<Figure size 504x360 with 2 Axes>"
      ]
     },
     "metadata": {
      "needs_background": "light"
     },
     "output_type": "display_data"
    }
   ],
   "source": [
    "plt.figure(figsize=(7,5))\n",
    "ax1 = sns.heatmap(data = corr,cmap = \"tab20\",annot=True)\n",
    "plt.show()"
   ]
  },
  {
   "cell_type": "markdown",
   "id": "d5507ee7",
   "metadata": {},
   "source": [
    "# Text cleaning"
   ]
  },
  {
   "cell_type": "raw",
   "id": "3c82038c",
   "metadata": {},
   "source": [
    "Basic Cleaning Steps:\n",
    "\n",
    "Remove non eng - sent\n",
    "Remove url\n",
    "Remove html tags\n",
    "Remove email id\n",
    "Replace - with spaces\n",
    "Remove stopwords (custom list, include 'th', don't, dont\n",
    "Remove punctuations (custom punctuations) -> use regex to handle multiple occurences of puncts. as well for eg, ... !!!!! \n",
    "Remove numbers\n",
    "Remove single characters \n",
    "Replace multiple spaces with spaces\n",
    "Lemmatize with POS Tagging"
   ]
  },
  {
   "cell_type": "code",
   "execution_count": 25,
   "id": "a61ac4b6",
   "metadata": {},
   "outputs": [],
   "source": [
    "stopwords_custom= ['i', 'me', 'my', 'myself', 'we', 'our', 'ours', 'ourselves', 'you', \"you're\", \"you've\",\\\n",
    "            \"you'll\", \"you'd\", 'your', 'yours', 'yourself', 'yourselves', 'he', 'him', 'his', 'himself', \\\n",
    "            'she', \"she's\", 'her', 'hers', 'herself', 'it', \"it's\", 'its', 'itself', 'they', 'them', 'their',\\\n",
    "            'theirs', 'themselves', 'what', 'which', 'who', 'whom', 'this', 'that', \"that'll\", 'these', 'those', \\\n",
    "            'am', 'is', 'are', 'was', 'were', 'be', 'been', 'being', 'have', 'has', 'had', 'having', 'do', 'does', \\\n",
    "            'did', 'doing', 'a', 'an', 'the', 'and', 'but', 'if', 'or', 'because', 'as', 'until', 'while', 'of', \\\n",
    "            'at', 'by', 'for', 'with', 'about', 'against', 'between', 'into', 'through', 'during', 'before', 'after',\\\n",
    "            'above', 'below', 'to', 'from', 'up', 'down', 'in', 'out', 'on', 'off', 'over', 'under', 'again', 'further',\\\n",
    "            'then', 'once', 'here', 'there', 'when', 'where', 'why', 'how', 'all', 'any', 'both', 'each', 'few', 'more',\\\n",
    "            'most', 'other', 'some', 'such', 'only', 'own', 'same', 'so', 'than', 'too', 'very', \\\n",
    "            's', 't', 'can', 'will', 'just', 'should', \"should've\", 'now', 'd', 'll', 'm', 'o', 're', \\\n",
    "            've', 'y']"
   ]
  },
  {
   "cell_type": "code",
   "execution_count": 26,
   "id": "e4010d0b",
   "metadata": {},
   "outputs": [],
   "source": [
    "from nltk.corpus import wordnet\n",
    "from nltk.stem import WordNetLemmatizer\n",
    "import nltk\n",
    "\n",
    "lemmatizer = WordNetLemmatizer()\n",
    "wordnet_map = {\"N\":wordnet.NOUN, \"V\":wordnet.VERB, \"J\":wordnet.ADJ, \"R\":wordnet.ADV}\n",
    "\n",
    "def lemmatize_words(text):\n",
    "    \n",
    "    pos_tagged_text = nltk.pos_tag(text.split())\n",
    "    #print(pos_tagged_text)\n",
    "    \n",
    "    return \" \".join([lemmatizer.lemmatize(word, wordnet_map.get(pos[0], wordnet.NOUN)) for word, pos in pos_tagged_text])"
   ]
  },
  {
   "cell_type": "code",
   "execution_count": 27,
   "id": "c528ed86",
   "metadata": {},
   "outputs": [],
   "source": [
    "def clean_text(sentence):\n",
    "    sentence = sentence.lower()\n",
    "    \n",
    "    sentence = re.sub(r'^https?:\\/\\/.*[\\r\\n]*', '', sentence, flags=re.MULTILINE)\n",
    "    sentence = re.sub(r'<[^>]*>','',sentence)\n",
    "    sentence = re.sub(r'\\S*@\\S*\\s?','',sentence)\n",
    "    sentence = re.sub(r'[-]+',' ',sentence)\n",
    "    sentence = ' '.join([word for word in sentence.split() if word not in stopwords_custom])\n",
    "    sentence = re.sub(r'[^\\w\\s]','',sentence)\n",
    "    sentence = re.sub(r'[^a-z ]+','',sentence)\n",
    "    sentence = re.sub(r'\\\\b[a-z]\\\\b','', sentence)\n",
    "    sentence = re.sub(r'[\\s]+', ' ',sentence)\n",
    "    sentence = lemmatize_words(sentence)\n",
    "    \n",
    "    return sentence"
   ]
  },
  {
   "cell_type": "code",
   "execution_count": 28,
   "id": "3d546e52",
   "metadata": {},
   "outputs": [],
   "source": [
    "data_train['clean_story'] = data_train['STORY'].apply(clean_text)"
   ]
  },
  {
   "cell_type": "code",
   "execution_count": 29,
   "id": "66ca22f6",
   "metadata": {},
   "outputs": [
    {
     "data": {
      "text/html": [
       "<div>\n",
       "<style scoped>\n",
       "    .dataframe tbody tr th:only-of-type {\n",
       "        vertical-align: middle;\n",
       "    }\n",
       "\n",
       "    .dataframe tbody tr th {\n",
       "        vertical-align: top;\n",
       "    }\n",
       "\n",
       "    .dataframe thead th {\n",
       "        text-align: right;\n",
       "    }\n",
       "</style>\n",
       "<table border=\"1\" class=\"dataframe\">\n",
       "  <thead>\n",
       "    <tr style=\"text-align: right;\">\n",
       "      <th></th>\n",
       "      <th>STORY</th>\n",
       "      <th>SECTION</th>\n",
       "      <th>nwords</th>\n",
       "      <th>length</th>\n",
       "      <th>count_punct</th>\n",
       "      <th>count_stopwords</th>\n",
       "      <th>clean_story</th>\n",
       "    </tr>\n",
       "  </thead>\n",
       "  <tbody>\n",
       "    <tr>\n",
       "      <th>0</th>\n",
       "      <td>But the most painful was the huge reversal in ...</td>\n",
       "      <td>3</td>\n",
       "      <td>148</td>\n",
       "      <td>843</td>\n",
       "      <td>13</td>\n",
       "      <td>313</td>\n",
       "      <td>painful huge reversal fee income unheard among...</td>\n",
       "    </tr>\n",
       "    <tr>\n",
       "      <th>1</th>\n",
       "      <td>How formidable is the opposition alliance amon...</td>\n",
       "      <td>0</td>\n",
       "      <td>17</td>\n",
       "      <td>129</td>\n",
       "      <td>6</td>\n",
       "      <td>48</td>\n",
       "      <td>formidable opposition alliance among congress ...</td>\n",
       "    </tr>\n",
       "    <tr>\n",
       "      <th>2</th>\n",
       "      <td>Most Asian currencies were trading lower today...</td>\n",
       "      <td>3</td>\n",
       "      <td>58</td>\n",
       "      <td>386</td>\n",
       "      <td>32</td>\n",
       "      <td>112</td>\n",
       "      <td>asian currency trade low today south korean wi...</td>\n",
       "    </tr>\n",
       "    <tr>\n",
       "      <th>3</th>\n",
       "      <td>If you want to answer any question, click on ‘...</td>\n",
       "      <td>1</td>\n",
       "      <td>103</td>\n",
       "      <td>587</td>\n",
       "      <td>15</td>\n",
       "      <td>193</td>\n",
       "      <td>want answer question click answer click answer...</td>\n",
       "    </tr>\n",
       "    <tr>\n",
       "      <th>4</th>\n",
       "      <td>In global markets, gold prices edged up today ...</td>\n",
       "      <td>3</td>\n",
       "      <td>46</td>\n",
       "      <td>299</td>\n",
       "      <td>10</td>\n",
       "      <td>112</td>\n",
       "      <td>global market gold price edge today disappoint...</td>\n",
       "    </tr>\n",
       "  </tbody>\n",
       "</table>\n",
       "</div>"
      ],
      "text/plain": [
       "                                               STORY  SECTION  nwords  length  \\\n",
       "0  But the most painful was the huge reversal in ...        3     148     843   \n",
       "1  How formidable is the opposition alliance amon...        0      17     129   \n",
       "2  Most Asian currencies were trading lower today...        3      58     386   \n",
       "3  If you want to answer any question, click on ‘...        1     103     587   \n",
       "4  In global markets, gold prices edged up today ...        3      46     299   \n",
       "\n",
       "   count_punct  count_stopwords  \\\n",
       "0           13              313   \n",
       "1            6               48   \n",
       "2           32              112   \n",
       "3           15              193   \n",
       "4           10              112   \n",
       "\n",
       "                                         clean_story  \n",
       "0  painful huge reversal fee income unheard among...  \n",
       "1  formidable opposition alliance among congress ...  \n",
       "2  asian currency trade low today south korean wi...  \n",
       "3  want answer question click answer click answer...  \n",
       "4  global market gold price edge today disappoint...  "
      ]
     },
     "execution_count": 29,
     "metadata": {},
     "output_type": "execute_result"
    }
   ],
   "source": [
    "data_train.head()"
   ]
  },
  {
   "cell_type": "markdown",
   "id": "5745ff4a",
   "metadata": {},
   "source": [
    "### remove non eng words"
   ]
  },
  {
   "cell_type": "raw",
   "id": "9f71bf79",
   "metadata": {},
   "source": [
    "check eng non eng"
   ]
  },
  {
   "cell_type": "code",
   "execution_count": 30,
   "id": "5cf1c140",
   "metadata": {},
   "outputs": [],
   "source": [
    "from nltk.corpus import brown"
   ]
  },
  {
   "cell_type": "code",
   "execution_count": 31,
   "id": "4406c30a",
   "metadata": {},
   "outputs": [],
   "source": [
    "eng_words = set(brown.words())"
   ]
  },
  {
   "cell_type": "code",
   "execution_count": 32,
   "id": "a047d8a3",
   "metadata": {},
   "outputs": [],
   "source": [
    "#eng_words"
   ]
  },
  {
   "cell_type": "code",
   "execution_count": 33,
   "id": "2af36589",
   "metadata": {},
   "outputs": [],
   "source": [
    "def remove_non_eng_word(sentence):\n",
    "    sentence = ' '.join([word for word in sentence.split() if word in eng_words])\n",
    "    return sentence"
   ]
  },
  {
   "cell_type": "markdown",
   "id": "6072c247",
   "metadata": {},
   "source": [
    "#### adding new column which has only english words"
   ]
  },
  {
   "cell_type": "code",
   "execution_count": 34,
   "id": "9a53e671",
   "metadata": {},
   "outputs": [],
   "source": [
    "data_train['clean_story_eng_only'] = data_train['clean_story'].apply(remove_non_eng_word)"
   ]
  },
  {
   "cell_type": "code",
   "execution_count": 35,
   "id": "7918b107",
   "metadata": {},
   "outputs": [
    {
     "data": {
      "text/html": [
       "<div>\n",
       "<style scoped>\n",
       "    .dataframe tbody tr th:only-of-type {\n",
       "        vertical-align: middle;\n",
       "    }\n",
       "\n",
       "    .dataframe tbody tr th {\n",
       "        vertical-align: top;\n",
       "    }\n",
       "\n",
       "    .dataframe thead th {\n",
       "        text-align: right;\n",
       "    }\n",
       "</style>\n",
       "<table border=\"1\" class=\"dataframe\">\n",
       "  <thead>\n",
       "    <tr style=\"text-align: right;\">\n",
       "      <th></th>\n",
       "      <th>STORY</th>\n",
       "      <th>SECTION</th>\n",
       "      <th>nwords</th>\n",
       "      <th>length</th>\n",
       "      <th>count_punct</th>\n",
       "      <th>count_stopwords</th>\n",
       "      <th>clean_story</th>\n",
       "      <th>clean_story_eng_only</th>\n",
       "    </tr>\n",
       "  </thead>\n",
       "  <tbody>\n",
       "    <tr>\n",
       "      <th>0</th>\n",
       "      <td>But the most painful was the huge reversal in ...</td>\n",
       "      <td>3</td>\n",
       "      <td>148</td>\n",
       "      <td>843</td>\n",
       "      <td>13</td>\n",
       "      <td>313</td>\n",
       "      <td>painful huge reversal fee income unheard among...</td>\n",
       "      <td>painful huge reversal fee income unheard among...</td>\n",
       "    </tr>\n",
       "    <tr>\n",
       "      <th>1</th>\n",
       "      <td>How formidable is the opposition alliance amon...</td>\n",
       "      <td>0</td>\n",
       "      <td>17</td>\n",
       "      <td>129</td>\n",
       "      <td>6</td>\n",
       "      <td>48</td>\n",
       "      <td>formidable opposition alliance among congress ...</td>\n",
       "      <td>formidable opposition alliance among congress</td>\n",
       "    </tr>\n",
       "    <tr>\n",
       "      <th>2</th>\n",
       "      <td>Most Asian currencies were trading lower today...</td>\n",
       "      <td>3</td>\n",
       "      <td>58</td>\n",
       "      <td>386</td>\n",
       "      <td>32</td>\n",
       "      <td>112</td>\n",
       "      <td>asian currency trade low today south korean wi...</td>\n",
       "      <td>currency trade low today south win china china...</td>\n",
       "    </tr>\n",
       "    <tr>\n",
       "      <th>3</th>\n",
       "      <td>If you want to answer any question, click on ‘...</td>\n",
       "      <td>1</td>\n",
       "      <td>103</td>\n",
       "      <td>587</td>\n",
       "      <td>15</td>\n",
       "      <td>193</td>\n",
       "      <td>want answer question click answer click answer...</td>\n",
       "      <td>want answer question click answer click answer...</td>\n",
       "    </tr>\n",
       "    <tr>\n",
       "      <th>4</th>\n",
       "      <td>In global markets, gold prices edged up today ...</td>\n",
       "      <td>3</td>\n",
       "      <td>46</td>\n",
       "      <td>299</td>\n",
       "      <td>10</td>\n",
       "      <td>112</td>\n",
       "      <td>global market gold price edge today disappoint...</td>\n",
       "      <td>global market gold price edge today factory ac...</td>\n",
       "    </tr>\n",
       "  </tbody>\n",
       "</table>\n",
       "</div>"
      ],
      "text/plain": [
       "                                               STORY  SECTION  nwords  length  \\\n",
       "0  But the most painful was the huge reversal in ...        3     148     843   \n",
       "1  How formidable is the opposition alliance amon...        0      17     129   \n",
       "2  Most Asian currencies were trading lower today...        3      58     386   \n",
       "3  If you want to answer any question, click on ‘...        1     103     587   \n",
       "4  In global markets, gold prices edged up today ...        3      46     299   \n",
       "\n",
       "   count_punct  count_stopwords  \\\n",
       "0           13              313   \n",
       "1            6               48   \n",
       "2           32              112   \n",
       "3           15              193   \n",
       "4           10              112   \n",
       "\n",
       "                                         clean_story  \\\n",
       "0  painful huge reversal fee income unheard among...   \n",
       "1  formidable opposition alliance among congress ...   \n",
       "2  asian currency trade low today south korean wi...   \n",
       "3  want answer question click answer click answer...   \n",
       "4  global market gold price edge today disappoint...   \n",
       "\n",
       "                                clean_story_eng_only  \n",
       "0  painful huge reversal fee income unheard among...  \n",
       "1      formidable opposition alliance among congress  \n",
       "2  currency trade low today south win china china...  \n",
       "3  want answer question click answer click answer...  \n",
       "4  global market gold price edge today factory ac...  "
      ]
     },
     "execution_count": 35,
     "metadata": {},
     "output_type": "execute_result"
    }
   ],
   "source": [
    "data_train.head()"
   ]
  },
  {
   "cell_type": "markdown",
   "id": "193b495e",
   "metadata": {},
   "source": [
    "## Train Test Split"
   ]
  },
  {
   "cell_type": "code",
   "execution_count": 36,
   "id": "d6680d86",
   "metadata": {},
   "outputs": [],
   "source": [
    "from sklearn.model_selection import train_test_split"
   ]
  },
  {
   "cell_type": "code",
   "execution_count": 37,
   "id": "41f98b97",
   "metadata": {},
   "outputs": [],
   "source": [
    "X = data_train.drop(columns = ['SECTION'])\n",
    "y = data_train['SECTION']\n",
    "X_train,X_test,y_train,y_test = train_test_split(X,y,test_size = .2,random_state = 42,stratify = y)"
   ]
  },
  {
   "cell_type": "code",
   "execution_count": 38,
   "id": "a40e0fc9",
   "metadata": {},
   "outputs": [
    {
     "data": {
      "text/plain": [
       "(6102, 7)"
      ]
     },
     "execution_count": 38,
     "metadata": {},
     "output_type": "execute_result"
    }
   ],
   "source": [
    "X_train.shape"
   ]
  },
  {
   "cell_type": "code",
   "execution_count": 39,
   "id": "797d77c5",
   "metadata": {},
   "outputs": [
    {
     "data": {
      "text/plain": [
       "(1526, 7)"
      ]
     },
     "execution_count": 39,
     "metadata": {},
     "output_type": "execute_result"
    }
   ],
   "source": [
    "X_test.shape"
   ]
  },
  {
   "cell_type": "code",
   "execution_count": 40,
   "id": "c9e43bd3",
   "metadata": {},
   "outputs": [
    {
     "data": {
      "text/plain": [
       "1    0.363324\n",
       "2    0.252212\n",
       "0    0.221075\n",
       "3    0.163389\n",
       "Name: SECTION, dtype: float64"
      ]
     },
     "execution_count": 40,
     "metadata": {},
     "output_type": "execute_result"
    }
   ],
   "source": [
    "y_train.value_counts(normalize=True)"
   ]
  },
  {
   "cell_type": "code",
   "execution_count": 41,
   "id": "6f21874c",
   "metadata": {},
   "outputs": [
    {
     "data": {
      "text/plain": [
       "1    0.363696\n",
       "2    0.252294\n",
       "0    0.220839\n",
       "3    0.163172\n",
       "Name: SECTION, dtype: float64"
      ]
     },
     "execution_count": 41,
     "metadata": {},
     "output_type": "execute_result"
    }
   ],
   "source": [
    "y_test.value_counts(normalize=True)"
   ]
  },
  {
   "cell_type": "markdown",
   "id": "87fa587f",
   "metadata": {},
   "source": [
    "# Vectorization"
   ]
  },
  {
   "cell_type": "raw",
   "id": "74feff04",
   "metadata": {},
   "source": [
    "bagofwords - clean_story \n",
    "tfidf - clean_story\n",
    "AvgW2V - clean_story,clean_story_eng_only\n",
    "TFIDFW2v - clean_story,clean_story_eng_only"
   ]
  },
  {
   "cell_type": "markdown",
   "id": "81b475a5",
   "metadata": {},
   "source": [
    "## BOW & TfIdf"
   ]
  },
  {
   "cell_type": "code",
   "execution_count": 42,
   "id": "3b51e106",
   "metadata": {},
   "outputs": [],
   "source": [
    "from sklearn.feature_extraction.text import CountVectorizer,TfidfVectorizer"
   ]
  },
  {
   "cell_type": "markdown",
   "id": "f8ea1143",
   "metadata": {},
   "source": [
    "#### BOW"
   ]
  },
  {
   "cell_type": "code",
   "execution_count": 43,
   "id": "a23d3f90",
   "metadata": {},
   "outputs": [],
   "source": [
    "count = CountVectorizer()\n",
    "X_train_bow = count.fit_transform(X_train['clean_story'])\n",
    "X_test_bow = count.transform(X_test['clean_story'])\n"
   ]
  },
  {
   "cell_type": "markdown",
   "id": "7379da6b",
   "metadata": {},
   "source": [
    "#### TfIdf"
   ]
  },
  {
   "cell_type": "code",
   "execution_count": 44,
   "id": "2b621a1c",
   "metadata": {},
   "outputs": [],
   "source": [
    "tfidf = TfidfVectorizer()\n",
    "X_train_tfidf = tfidf.fit_transform(X_train['clean_story'])\n",
    "X_test_tfidf = tfidf.transform(X_test['clean_story'])\n"
   ]
  },
  {
   "cell_type": "markdown",
   "id": "fc019f45",
   "metadata": {},
   "source": [
    "## w2v"
   ]
  },
  {
   "cell_type": "code",
   "execution_count": 45,
   "id": "d565d48d",
   "metadata": {},
   "outputs": [],
   "source": [
    "import pickle\n",
    "\n",
    "glove_path = r'C:\\glove_vectors'\n",
    "\n",
    "with open(glove_path,'rb') as f:\n",
    "    model = pickle.load(f)\n",
    "        \n",
    "glove_words = model.keys()"
   ]
  },
  {
   "cell_type": "markdown",
   "id": "e7114a30",
   "metadata": {},
   "source": [
    "### Avgw2v clean_story"
   ]
  },
  {
   "cell_type": "code",
   "execution_count": 46,
   "id": "25666410",
   "metadata": {},
   "outputs": [],
   "source": [
    "def avg_w2v(news_article):\n",
    "    avg_w2v_vectors = []\n",
    "    for sentence in tqdm(news_article): # for each article/sentence\n",
    "        vector = np.zeros(300) # as word vectors are of zero length\n",
    "        cnt_words =0 # num of words with a valid vector in the sentence/article\n",
    "        for word in sentence.split(): # for each word in a article/sentence\n",
    "            if word in glove_words:\n",
    "                vector += model[word]\n",
    "                cnt_words += 1\n",
    "        if cnt_words != 0:\n",
    "            vector /= cnt_words\n",
    "        avg_w2v_vectors.append(vector)\n",
    "    return avg_w2v_vectors"
   ]
  },
  {
   "cell_type": "code",
   "execution_count": 47,
   "id": "fa700ca0",
   "metadata": {},
   "outputs": [
    {
     "name": "stderr",
     "output_type": "stream",
     "text": [
      "100%|██████████| 6102/6102 [00:01<00:00, 3666.93it/s]\n"
     ]
    }
   ],
   "source": [
    "## vectors avg for words in clean_Story\n",
    "X_train_avg_w2v = avg_w2v(X_train['clean_story'])"
   ]
  },
  {
   "cell_type": "code",
   "execution_count": 48,
   "id": "dc19c1c4",
   "metadata": {},
   "outputs": [
    {
     "name": "stderr",
     "output_type": "stream",
     "text": [
      "100%|██████████| 1526/1526 [00:00<00:00, 2604.24it/s]\n"
     ]
    }
   ],
   "source": [
    "X_test_avg_w2v = avg_w2v(X_test['clean_story'])"
   ]
  },
  {
   "cell_type": "markdown",
   "id": "e5f03e3c",
   "metadata": {},
   "source": [
    "### Avgw2v clean_story_eng_only"
   ]
  },
  {
   "cell_type": "code",
   "execution_count": 49,
   "id": "edbb2709",
   "metadata": {},
   "outputs": [
    {
     "name": "stderr",
     "output_type": "stream",
     "text": [
      "100%|██████████| 6102/6102 [00:02<00:00, 2939.89it/s]\n"
     ]
    }
   ],
   "source": [
    "## vectors avg for words in clean_Story_eng_only\n",
    "X_train_avg_w2v_eng_only = avg_w2v(X_train['clean_story_eng_only'])"
   ]
  },
  {
   "cell_type": "code",
   "execution_count": 50,
   "id": "b8e9e221",
   "metadata": {},
   "outputs": [
    {
     "name": "stderr",
     "output_type": "stream",
     "text": [
      "100%|██████████| 1526/1526 [00:00<00:00, 4600.66it/s]\n"
     ]
    }
   ],
   "source": [
    "X_test_avg_w2v_eng_only = avg_w2v(X_test['clean_story_eng_only'])"
   ]
  },
  {
   "cell_type": "markdown",
   "id": "13f19f5f",
   "metadata": {},
   "source": [
    "### TFIDFW2v - clean_story"
   ]
  },
  {
   "cell_type": "code",
   "execution_count": 51,
   "id": "878a96e9",
   "metadata": {},
   "outputs": [],
   "source": [
    "from sklearn.feature_extraction.text import TfidfVectorizer\n",
    "\n",
    "tfidf_model_clean_story = TfidfVectorizer()\n",
    "## idf values for clean_story\n",
    "tfidf_model_clean_story.fit(X_train['clean_story']) ## using fit we get idf and with transform we get (tf * idf) \n",
    "                                                       ## here we're only using fit. for train data we get all idf\n",
    "# we are converting a dictionary with word as a key, and the idf as a value\n",
    "\n",
    "dictionary_clean_story = dict(zip(tfidf_model_clean_story.get_feature_names(), list(tfidf_model_clean_story.idf_)))\n",
    "\n",
    "tfidf_words_clean_story = set(tfidf_model_clean_story.get_feature_names())"
   ]
  },
  {
   "cell_type": "code",
   "execution_count": 52,
   "id": "8f05a77b",
   "metadata": {},
   "outputs": [],
   "source": [
    "def tfidf_w2v(news_article):\n",
    "    tfidf_w2v_vectors = []\n",
    "    for sentence in tqdm(news_article): # for each article/sentence\n",
    "        vector = np.zeros(300) # as word vectors are of zero length\n",
    "        tf_idf_weight =0; # num of words with a valid vector in the sentence/article\n",
    "        for word in sentence.split(): # for each word in a article/sentence\n",
    "            if (word in glove_words) and (word in tfidf_words_clean_story):\n",
    "                vec = model[word] # getting the vector for each word\n",
    "                # here we are multiplying idf value(dictionary[word]) and the tf value((sentence.count(word)/len(sentence.split())))\n",
    "                tf_idf = dictionary_clean_story[word]*(sentence.count(word)/len(sentence.split())) # getting the tfidf value for each word\n",
    "                vector += (vec * tf_idf) # calculating tfidf weighted w2v\n",
    "                tf_idf_weight += tf_idf\n",
    "        if tf_idf_weight != 0:\n",
    "            vector /= tf_idf_weight\n",
    "        tfidf_w2v_vectors.append(vector)\n",
    "    \n",
    "    return tfidf_w2v_vectors\n"
   ]
  },
  {
   "cell_type": "code",
   "execution_count": 53,
   "id": "3012833f",
   "metadata": {},
   "outputs": [
    {
     "name": "stderr",
     "output_type": "stream",
     "text": [
      "100%|██████████| 6102/6102 [00:08<00:00, 690.25it/s]\n"
     ]
    }
   ],
   "source": [
    "X_train_tfidf_w2v = tfidf_w2v(X_train['clean_story'])"
   ]
  },
  {
   "cell_type": "code",
   "execution_count": 54,
   "id": "914fafea",
   "metadata": {},
   "outputs": [
    {
     "name": "stderr",
     "output_type": "stream",
     "text": [
      "100%|██████████| 1526/1526 [00:02<00:00, 711.40it/s]\n"
     ]
    }
   ],
   "source": [
    "X_test_tfidf_w2v = tfidf_w2v(X_test['clean_story'])"
   ]
  },
  {
   "cell_type": "markdown",
   "id": "d2d276f9",
   "metadata": {},
   "source": [
    "### TFIDFW2v - clean_story_eng_only"
   ]
  },
  {
   "cell_type": "code",
   "execution_count": 55,
   "id": "06e164ae",
   "metadata": {},
   "outputs": [],
   "source": [
    "tfidf_model_clean_story_eng_only = TfidfVectorizer()\n",
    "\n",
    "## idf values for clean_story_eng_only\n",
    "tfidf_model_clean_story_eng_only.fit(X_train['clean_story_eng_only'])\n",
    "\n",
    "# we are converting a dictionary with word as a key, and the idf as a value\n",
    "\n",
    "dictionary_clean_story_eng_only = dict(zip(tfidf_model_clean_story_eng_only.get_feature_names(), list(tfidf_model_clean_story_eng_only.idf_)))\n",
    "\n",
    "tfidf_words_clean_story_eng_only = set(tfidf_model_clean_story_eng_only.get_feature_names())"
   ]
  },
  {
   "cell_type": "code",
   "execution_count": 56,
   "id": "76493145",
   "metadata": {},
   "outputs": [
    {
     "name": "stderr",
     "output_type": "stream",
     "text": [
      "100%|██████████| 6102/6102 [00:08<00:00, 751.50it/s]\n"
     ]
    }
   ],
   "source": [
    "X_train_tfidf_w2v_eng_only = tfidf_w2v(X_train['clean_story_eng_only'])"
   ]
  },
  {
   "cell_type": "code",
   "execution_count": 57,
   "id": "5d8eecf8",
   "metadata": {},
   "outputs": [
    {
     "name": "stderr",
     "output_type": "stream",
     "text": [
      "100%|██████████| 1526/1526 [00:01<00:00, 790.79it/s]\n"
     ]
    }
   ],
   "source": [
    "X_test_tfidf_w2v_eng_only = tfidf_w2v(X_test['clean_story_eng_only'])"
   ]
  },
  {
   "cell_type": "markdown",
   "id": "ba71ef19",
   "metadata": {},
   "source": [
    "# Model building \n"
   ]
  },
  {
   "cell_type": "markdown",
   "id": "6bd6e06e",
   "metadata": {},
   "source": [
    "#### Choice of metrics : Accuracy as dataset is balanced.\n",
    "(However we will also look at individual precison and recall)"
   ]
  },
  {
   "cell_type": "markdown",
   "id": "ee25f732",
   "metadata": {},
   "source": [
    "## Building KNN model for all six vectors."
   ]
  },
  {
   "cell_type": "raw",
   "id": "68e3c4a2",
   "metadata": {},
   "source": [
    "X_train_bow\n",
    "\n",
    "X_train_tfidf\n",
    "\n",
    "X_train_avg_w2v\n",
    "\n",
    "X_train_avg_w2v_eng_only \n",
    "\n",
    "X_train_tfidf_w2v\n",
    "\n",
    "X_train_tfidf_w2v_eng_only"
   ]
  },
  {
   "cell_type": "code",
   "execution_count": 58,
   "id": "49f5bcec",
   "metadata": {},
   "outputs": [],
   "source": [
    "from sklearn.neighbors import KNeighborsClassifier\n",
    "from sklearn.metrics import accuracy_score"
   ]
  },
  {
   "cell_type": "markdown",
   "id": "cb7b74f3",
   "metadata": {},
   "source": [
    "### BOW KNN"
   ]
  },
  {
   "cell_type": "code",
   "execution_count": 59,
   "id": "44d2d5f7",
   "metadata": {},
   "outputs": [],
   "source": [
    "knn_bow =  KNeighborsClassifier()\n",
    "knn_bow.fit(X_train_bow,y_train)\n",
    "knn_bow_pred = knn_bow.predict(X_test_bow)\n",
    "knn_bow_acc =  accuracy_score(y_test , knn_bow_pred)"
   ]
  },
  {
   "cell_type": "code",
   "execution_count": 60,
   "id": "060d0fe4",
   "metadata": {},
   "outputs": [
    {
     "data": {
      "text/plain": [
       "0.754259501965924"
      ]
     },
     "execution_count": 60,
     "metadata": {},
     "output_type": "execute_result"
    }
   ],
   "source": [
    "knn_bow_acc"
   ]
  },
  {
   "cell_type": "markdown",
   "id": "db626f78",
   "metadata": {},
   "source": [
    "### TfIdf KNN"
   ]
  },
  {
   "cell_type": "code",
   "execution_count": 61,
   "id": "a30ce7cd",
   "metadata": {},
   "outputs": [],
   "source": [
    "knn_tfidf = KNeighborsClassifier()\n",
    "knn_tfidf.fit(X_train_tfidf,y_train)\n",
    "knn_tfidf_pred = knn_tfidf.predict(X_test_tfidf)\n",
    "knn_tfidf_acc = accuracy_score(y_test,knn_tfidf_pred)"
   ]
  },
  {
   "cell_type": "code",
   "execution_count": 62,
   "id": "88d061d9",
   "metadata": {},
   "outputs": [
    {
     "data": {
      "text/plain": [
       "0.953473132372215"
      ]
     },
     "execution_count": 62,
     "metadata": {},
     "output_type": "execute_result"
    }
   ],
   "source": [
    "knn_tfidf_acc"
   ]
  },
  {
   "cell_type": "markdown",
   "id": "4addea10",
   "metadata": {},
   "source": [
    "### Avg Word2Vec KNN"
   ]
  },
  {
   "cell_type": "code",
   "execution_count": 63,
   "id": "7015cbfa",
   "metadata": {},
   "outputs": [],
   "source": [
    "knn_avg_w2v = KNeighborsClassifier()\n",
    "knn_avg_w2v.fit(X_train_avg_w2v,y_train)\n",
    "knn_avg_w2v_pred = knn_avg_w2v.predict(X_test_avg_w2v)\n",
    "knn_avg_w2v_acc = accuracy_score(y_test,knn_avg_w2v_pred)"
   ]
  },
  {
   "cell_type": "code",
   "execution_count": 64,
   "id": "c16acca2",
   "metadata": {},
   "outputs": [
    {
     "data": {
      "text/plain": [
       "0.9429882044560943"
      ]
     },
     "execution_count": 64,
     "metadata": {},
     "output_type": "execute_result"
    }
   ],
   "source": [
    "knn_avg_w2v_acc"
   ]
  },
  {
   "cell_type": "markdown",
   "id": "198a9fa8",
   "metadata": {},
   "source": [
    "### Avg Word2Vec eng_only KNN"
   ]
  },
  {
   "cell_type": "code",
   "execution_count": 65,
   "id": "f25f4fb1",
   "metadata": {},
   "outputs": [],
   "source": [
    "knn_avg_w2v_eng_only = KNeighborsClassifier()\n",
    "knn_avg_w2v_eng_only.fit(X_train_avg_w2v_eng_only,y_train)\n",
    "knn_avg_w2v_eng_only_pred = knn_avg_w2v_eng_only.predict(X_test_avg_w2v_eng_only)\n",
    "knn_avg_w2v_eng_only_acc = accuracy_score(y_test,knn_avg_w2v_eng_only_pred)"
   ]
  },
  {
   "cell_type": "code",
   "execution_count": 66,
   "id": "f3731986",
   "metadata": {},
   "outputs": [
    {
     "data": {
      "text/plain": [
       "0.9305373525557011"
      ]
     },
     "execution_count": 66,
     "metadata": {},
     "output_type": "execute_result"
    }
   ],
   "source": [
    "knn_avg_w2v_eng_only_acc"
   ]
  },
  {
   "cell_type": "markdown",
   "id": "0b180e2d",
   "metadata": {},
   "source": [
    "### TfIdf Word2Vec KNN"
   ]
  },
  {
   "cell_type": "code",
   "execution_count": 67,
   "id": "84e605a9",
   "metadata": {},
   "outputs": [],
   "source": [
    "knn_tfidf_w2v = KNeighborsClassifier()\n",
    "knn_tfidf_w2v.fit(X_train_tfidf_w2v,y_train)\n",
    "knn_tfidf_w2v_pred = knn_tfidf_w2v.predict(X_test_tfidf_w2v)\n",
    "knn_tfidf_w2v_acc = accuracy_score(y_test,knn_tfidf_w2v_pred)"
   ]
  },
  {
   "cell_type": "code",
   "execution_count": 68,
   "id": "2c2ee800",
   "metadata": {},
   "outputs": [
    {
     "data": {
      "text/plain": [
       "0.936435124508519"
      ]
     },
     "execution_count": 68,
     "metadata": {},
     "output_type": "execute_result"
    }
   ],
   "source": [
    "knn_tfidf_w2v_acc"
   ]
  },
  {
   "cell_type": "markdown",
   "id": "c14cd007",
   "metadata": {},
   "source": [
    "### TfIdf Word2Vec eng_only KNN"
   ]
  },
  {
   "cell_type": "code",
   "execution_count": 69,
   "id": "3694472b",
   "metadata": {},
   "outputs": [],
   "source": [
    "knn_tfidf_w2v_eng_only = KNeighborsClassifier()\n",
    "knn_tfidf_w2v_eng_only.fit(X_train_tfidf_w2v_eng_only, y_train)\n",
    "knn_tfidf_w2v_eng_only_pred = knn_tfidf_w2v_eng_only.predict(X_test_tfidf_w2v_eng_only)\n",
    "knn_tfidf_w2v_eng_only_acc = accuracy_score(y_test, knn_tfidf_w2v_eng_only_pred)"
   ]
  },
  {
   "cell_type": "code",
   "execution_count": 70,
   "id": "251f0456",
   "metadata": {},
   "outputs": [
    {
     "data": {
      "text/plain": [
       "0.919397116644823"
      ]
     },
     "execution_count": 70,
     "metadata": {},
     "output_type": "execute_result"
    }
   ],
   "source": [
    "knn_tfidf_w2v_eng_only_acc"
   ]
  },
  {
   "cell_type": "markdown",
   "id": "19d05c3a",
   "metadata": {},
   "source": [
    "## Building Logistic Regression model for all six vectors."
   ]
  },
  {
   "cell_type": "code",
   "execution_count": 71,
   "id": "2d4de1f4",
   "metadata": {},
   "outputs": [],
   "source": [
    "from sklearn.linear_model import LogisticRegression"
   ]
  },
  {
   "cell_type": "markdown",
   "id": "f4f9e54f",
   "metadata": {},
   "source": [
    "### BOW LR"
   ]
  },
  {
   "cell_type": "code",
   "execution_count": 72,
   "id": "c1b546a0",
   "metadata": {},
   "outputs": [],
   "source": [
    "lr_bow =  LogisticRegression()\n",
    "lr_bow.fit(X_train_bow,y_train)\n",
    "lr_bow_pred = lr_bow.predict(X_test_bow)\n",
    "lr_bow_acc =  accuracy_score(y_test , lr_bow_pred)"
   ]
  },
  {
   "cell_type": "code",
   "execution_count": 73,
   "id": "646b3933",
   "metadata": {},
   "outputs": [
    {
     "data": {
      "text/plain": [
       "0.963302752293578"
      ]
     },
     "execution_count": 73,
     "metadata": {},
     "output_type": "execute_result"
    }
   ],
   "source": [
    "lr_bow_acc"
   ]
  },
  {
   "cell_type": "markdown",
   "id": "c176f1f0",
   "metadata": {},
   "source": [
    "### TFIDF LR"
   ]
  },
  {
   "cell_type": "code",
   "execution_count": 74,
   "id": "4ad7b61c",
   "metadata": {},
   "outputs": [],
   "source": [
    "lr_tfidf = LogisticRegression()\n",
    "lr_tfidf.fit(X_train_tfidf,y_train)\n",
    "lr_tfidf_pred = lr_tfidf.predict(X_test_tfidf)\n",
    "lr_tfidf_acc = accuracy_score(y_test,lr_tfidf_pred)"
   ]
  },
  {
   "cell_type": "code",
   "execution_count": 75,
   "id": "ccd8b7ea",
   "metadata": {},
   "outputs": [
    {
     "data": {
      "text/plain": [
       "0.9665792922673656"
      ]
     },
     "execution_count": 75,
     "metadata": {},
     "output_type": "execute_result"
    }
   ],
   "source": [
    "lr_tfidf_acc"
   ]
  },
  {
   "cell_type": "markdown",
   "id": "7d223dc6",
   "metadata": {},
   "source": [
    "### Avg Word2Vec LR"
   ]
  },
  {
   "cell_type": "code",
   "execution_count": 76,
   "id": "c7466324",
   "metadata": {},
   "outputs": [
    {
     "name": "stderr",
     "output_type": "stream",
     "text": [
      "C:\\Users\\varsh\\anaconda3\\lib\\site-packages\\sklearn\\linear_model\\_logistic.py:763: ConvergenceWarning: lbfgs failed to converge (status=1):\n",
      "STOP: TOTAL NO. of ITERATIONS REACHED LIMIT.\n",
      "\n",
      "Increase the number of iterations (max_iter) or scale the data as shown in:\n",
      "    https://scikit-learn.org/stable/modules/preprocessing.html\n",
      "Please also refer to the documentation for alternative solver options:\n",
      "    https://scikit-learn.org/stable/modules/linear_model.html#logistic-regression\n",
      "  n_iter_i = _check_optimize_result(\n"
     ]
    }
   ],
   "source": [
    "lr_avg_w2v = LogisticRegression()\n",
    "lr_avg_w2v.fit(X_train_avg_w2v,y_train)\n",
    "lr_avg_w2v_pred = lr_avg_w2v.predict(X_test_avg_w2v)\n",
    "lr_avg_w2v_acc = accuracy_score(y_test,lr_avg_w2v_pred)"
   ]
  },
  {
   "cell_type": "code",
   "execution_count": 77,
   "id": "1c1babda",
   "metadata": {},
   "outputs": [
    {
     "data": {
      "text/plain": [
       "0.9515072083879423"
      ]
     },
     "execution_count": 77,
     "metadata": {},
     "output_type": "execute_result"
    }
   ],
   "source": [
    "lr_avg_w2v_acc"
   ]
  },
  {
   "cell_type": "markdown",
   "id": "63a23b9a",
   "metadata": {},
   "source": [
    "### Avg Word2Vec Eng only LR"
   ]
  },
  {
   "cell_type": "code",
   "execution_count": 78,
   "id": "7fadb923",
   "metadata": {},
   "outputs": [
    {
     "name": "stderr",
     "output_type": "stream",
     "text": [
      "C:\\Users\\varsh\\anaconda3\\lib\\site-packages\\sklearn\\linear_model\\_logistic.py:763: ConvergenceWarning: lbfgs failed to converge (status=1):\n",
      "STOP: TOTAL NO. of ITERATIONS REACHED LIMIT.\n",
      "\n",
      "Increase the number of iterations (max_iter) or scale the data as shown in:\n",
      "    https://scikit-learn.org/stable/modules/preprocessing.html\n",
      "Please also refer to the documentation for alternative solver options:\n",
      "    https://scikit-learn.org/stable/modules/linear_model.html#logistic-regression\n",
      "  n_iter_i = _check_optimize_result(\n"
     ]
    }
   ],
   "source": [
    "lr_avg_w2v_eng_only = LogisticRegression()\n",
    "lr_avg_w2v_eng_only.fit(X_train_avg_w2v_eng_only,y_train)\n",
    "lr_avg_w2v_eng_only_pred = lr_avg_w2v_eng_only.predict(X_test_avg_w2v_eng_only)\n",
    "lr_avg_w2v_eng_only_acc = accuracy_score(y_test,lr_avg_w2v_eng_only_pred)"
   ]
  },
  {
   "cell_type": "code",
   "execution_count": 79,
   "id": "a65bb89d",
   "metadata": {},
   "outputs": [
    {
     "data": {
      "text/plain": [
       "0.944954128440367"
      ]
     },
     "execution_count": 79,
     "metadata": {},
     "output_type": "execute_result"
    }
   ],
   "source": [
    "lr_avg_w2v_eng_only_acc"
   ]
  },
  {
   "cell_type": "markdown",
   "id": "5e473209",
   "metadata": {},
   "source": [
    "### TFIDF Word2Vec LR"
   ]
  },
  {
   "cell_type": "code",
   "execution_count": 80,
   "id": "4c979346",
   "metadata": {},
   "outputs": [
    {
     "name": "stderr",
     "output_type": "stream",
     "text": [
      "C:\\Users\\varsh\\anaconda3\\lib\\site-packages\\sklearn\\linear_model\\_logistic.py:763: ConvergenceWarning: lbfgs failed to converge (status=1):\n",
      "STOP: TOTAL NO. of ITERATIONS REACHED LIMIT.\n",
      "\n",
      "Increase the number of iterations (max_iter) or scale the data as shown in:\n",
      "    https://scikit-learn.org/stable/modules/preprocessing.html\n",
      "Please also refer to the documentation for alternative solver options:\n",
      "    https://scikit-learn.org/stable/modules/linear_model.html#logistic-regression\n",
      "  n_iter_i = _check_optimize_result(\n"
     ]
    }
   ],
   "source": [
    "lr_tfidf_w2v = LogisticRegression()\n",
    "lr_tfidf_w2v.fit(X_train_tfidf_w2v,y_train)\n",
    "lr_tfidf_w2v_pred = lr_tfidf_w2v.predict(X_test_tfidf_w2v)\n",
    "lr_tfidf_w2v_acc = accuracy_score(y_test,lr_tfidf_w2v_pred)"
   ]
  },
  {
   "cell_type": "code",
   "execution_count": 81,
   "id": "65a2044a",
   "metadata": {},
   "outputs": [
    {
     "data": {
      "text/plain": [
       "0.9495412844036697"
      ]
     },
     "execution_count": 81,
     "metadata": {},
     "output_type": "execute_result"
    }
   ],
   "source": [
    "lr_tfidf_w2v_acc"
   ]
  },
  {
   "cell_type": "markdown",
   "id": "604655c1",
   "metadata": {},
   "source": [
    "### TFIDF Word2Vec Eng only LR"
   ]
  },
  {
   "cell_type": "code",
   "execution_count": 82,
   "id": "60b2a7e6",
   "metadata": {},
   "outputs": [
    {
     "name": "stderr",
     "output_type": "stream",
     "text": [
      "C:\\Users\\varsh\\anaconda3\\lib\\site-packages\\sklearn\\linear_model\\_logistic.py:763: ConvergenceWarning: lbfgs failed to converge (status=1):\n",
      "STOP: TOTAL NO. of ITERATIONS REACHED LIMIT.\n",
      "\n",
      "Increase the number of iterations (max_iter) or scale the data as shown in:\n",
      "    https://scikit-learn.org/stable/modules/preprocessing.html\n",
      "Please also refer to the documentation for alternative solver options:\n",
      "    https://scikit-learn.org/stable/modules/linear_model.html#logistic-regression\n",
      "  n_iter_i = _check_optimize_result(\n"
     ]
    }
   ],
   "source": [
    "lr_tfidf_w2v_eng_only = LogisticRegression()\n",
    "lr_tfidf_w2v_eng_only.fit(X_train_tfidf_w2v_eng_only, y_train)\n",
    "lr_tfidf_w2v_eng_only_pred = lr_tfidf_w2v_eng_only.predict(X_test_tfidf_w2v_eng_only)\n",
    "lr_tfidf_w2v_eng_only_acc = accuracy_score(y_test, lr_tfidf_w2v_eng_only_pred)"
   ]
  },
  {
   "cell_type": "code",
   "execution_count": 83,
   "id": "00d44bf8",
   "metadata": {},
   "outputs": [
    {
     "data": {
      "text/plain": [
       "0.935124508519004"
      ]
     },
     "execution_count": 83,
     "metadata": {},
     "output_type": "execute_result"
    }
   ],
   "source": [
    "lr_tfidf_w2v_eng_only_acc"
   ]
  },
  {
   "cell_type": "markdown",
   "id": "052ef2da",
   "metadata": {},
   "source": [
    "## Performance metrics dataset"
   ]
  },
  {
   "cell_type": "code",
   "execution_count": 84,
   "id": "67897e5f",
   "metadata": {},
   "outputs": [],
   "source": [
    "data={ 'bow' : [knn_bow_acc,lr_bow_acc], 'tfidf': [knn_tfidf_acc,lr_tfidf_acc], 'avg_w2v': [knn_avg_w2v_acc,lr_avg_w2v_acc],\n",
    "      'avg_w2v_eng_only': [knn_avg_w2v_eng_only_acc,lr_avg_w2v_eng_only_acc], \n",
    "      'tfidf_w2v' : [knn_tfidf_w2v_acc,lr_tfidf_w2v_acc], 'tfidf_w2v_eng_only' : [knn_tfidf_w2v_eng_only_acc,lr_tfidf_w2v_eng_only_acc]}\n",
    "      \n",
    "performance_metrics = pd.DataFrame(data, index  = ['KNN','LR'])\n",
    "           "
   ]
  },
  {
   "cell_type": "code",
   "execution_count": 85,
   "id": "53e454fe",
   "metadata": {},
   "outputs": [
    {
     "data": {
      "text/html": [
       "<div>\n",
       "<style scoped>\n",
       "    .dataframe tbody tr th:only-of-type {\n",
       "        vertical-align: middle;\n",
       "    }\n",
       "\n",
       "    .dataframe tbody tr th {\n",
       "        vertical-align: top;\n",
       "    }\n",
       "\n",
       "    .dataframe thead th {\n",
       "        text-align: right;\n",
       "    }\n",
       "</style>\n",
       "<table border=\"1\" class=\"dataframe\">\n",
       "  <thead>\n",
       "    <tr style=\"text-align: right;\">\n",
       "      <th></th>\n",
       "      <th>bow</th>\n",
       "      <th>tfidf</th>\n",
       "      <th>avg_w2v</th>\n",
       "      <th>avg_w2v_eng_only</th>\n",
       "      <th>tfidf_w2v</th>\n",
       "      <th>tfidf_w2v_eng_only</th>\n",
       "    </tr>\n",
       "  </thead>\n",
       "  <tbody>\n",
       "    <tr>\n",
       "      <th>KNN</th>\n",
       "      <td>0.754260</td>\n",
       "      <td>0.953473</td>\n",
       "      <td>0.942988</td>\n",
       "      <td>0.930537</td>\n",
       "      <td>0.936435</td>\n",
       "      <td>0.919397</td>\n",
       "    </tr>\n",
       "    <tr>\n",
       "      <th>LR</th>\n",
       "      <td>0.963303</td>\n",
       "      <td>0.966579</td>\n",
       "      <td>0.951507</td>\n",
       "      <td>0.944954</td>\n",
       "      <td>0.949541</td>\n",
       "      <td>0.935125</td>\n",
       "    </tr>\n",
       "  </tbody>\n",
       "</table>\n",
       "</div>"
      ],
      "text/plain": [
       "          bow     tfidf   avg_w2v  avg_w2v_eng_only  tfidf_w2v  \\\n",
       "KNN  0.754260  0.953473  0.942988          0.930537   0.936435   \n",
       "LR   0.963303  0.966579  0.951507          0.944954   0.949541   \n",
       "\n",
       "     tfidf_w2v_eng_only  \n",
       "KNN            0.919397  \n",
       "LR             0.935125  "
      ]
     },
     "execution_count": 85,
     "metadata": {},
     "output_type": "execute_result"
    }
   ],
   "source": [
    "performance_metrics"
   ]
  },
  {
   "cell_type": "code",
   "execution_count": 86,
   "id": "2f74fc6a",
   "metadata": {},
   "outputs": [
    {
     "data": {
      "text/html": [
       "<div>\n",
       "<style scoped>\n",
       "    .dataframe tbody tr th:only-of-type {\n",
       "        vertical-align: middle;\n",
       "    }\n",
       "\n",
       "    .dataframe tbody tr th {\n",
       "        vertical-align: top;\n",
       "    }\n",
       "\n",
       "    .dataframe thead th {\n",
       "        text-align: right;\n",
       "    }\n",
       "</style>\n",
       "<table border=\"1\" class=\"dataframe\">\n",
       "  <thead>\n",
       "    <tr style=\"text-align: right;\">\n",
       "      <th></th>\n",
       "      <th>bow</th>\n",
       "      <th>tfidf</th>\n",
       "      <th>avg_w2v</th>\n",
       "      <th>avg_w2v_eng_only</th>\n",
       "      <th>tfidf_w2v</th>\n",
       "      <th>tfidf_w2v_eng_only</th>\n",
       "      <th>max_Acc</th>\n",
       "    </tr>\n",
       "  </thead>\n",
       "  <tbody>\n",
       "    <tr>\n",
       "      <th>KNN</th>\n",
       "      <td>0.754260</td>\n",
       "      <td>0.953473</td>\n",
       "      <td>0.942988</td>\n",
       "      <td>0.930537</td>\n",
       "      <td>0.936435</td>\n",
       "      <td>0.919397</td>\n",
       "      <td>0.953473</td>\n",
       "    </tr>\n",
       "    <tr>\n",
       "      <th>LR</th>\n",
       "      <td>0.963303</td>\n",
       "      <td>0.966579</td>\n",
       "      <td>0.951507</td>\n",
       "      <td>0.944954</td>\n",
       "      <td>0.949541</td>\n",
       "      <td>0.935125</td>\n",
       "      <td>0.966579</td>\n",
       "    </tr>\n",
       "  </tbody>\n",
       "</table>\n",
       "</div>"
      ],
      "text/plain": [
       "          bow     tfidf   avg_w2v  avg_w2v_eng_only  tfidf_w2v  \\\n",
       "KNN  0.754260  0.953473  0.942988          0.930537   0.936435   \n",
       "LR   0.963303  0.966579  0.951507          0.944954   0.949541   \n",
       "\n",
       "     tfidf_w2v_eng_only   max_Acc  \n",
       "KNN            0.919397  0.953473  \n",
       "LR             0.935125  0.966579  "
      ]
     },
     "execution_count": 86,
     "metadata": {},
     "output_type": "execute_result"
    }
   ],
   "source": [
    "performance_metrics = performance_metrics.assign(max_Acc = lambda x : (x.max(axis = 1)))\n",
    "performance_metrics"
   ]
  },
  {
   "cell_type": "markdown",
   "id": "b1b379a4",
   "metadata": {},
   "source": [
    "## Hyper parameter tuning for KNN TFIDF"
   ]
  },
  {
   "cell_type": "markdown",
   "id": "ef0c626a",
   "metadata": {},
   "source": [
    "#### Gridsearch CV"
   ]
  },
  {
   "cell_type": "code",
   "execution_count": 87,
   "id": "56337f67",
   "metadata": {},
   "outputs": [],
   "source": [
    "from sklearn.model_selection import GridSearchCV"
   ]
  },
  {
   "cell_type": "code",
   "execution_count": 88,
   "id": "12101eb9",
   "metadata": {},
   "outputs": [
    {
     "name": "stdout",
     "output_type": "stream",
     "text": [
      "Fitting 5 folds for each of 14 candidates, totalling 70 fits\n"
     ]
    },
    {
     "data": {
      "text/plain": [
       "GridSearchCV(cv=5, estimator=KNeighborsClassifier(), n_jobs=-1,\n",
       "             param_grid={'n_neighbors': [3, 5, 9, 15, 23, 35, 67],\n",
       "                         'weights': ['uniform', 'distance']},\n",
       "             scoring='accuracy', verbose=1)"
      ]
     },
     "execution_count": 88,
     "metadata": {},
     "output_type": "execute_result"
    }
   ],
   "source": [
    "knn_tfidf_cv = KNeighborsClassifier()\n",
    "param_grid_knn = {'n_neighbors':[3, 5,9,15,23,35,67],'weights':['uniform','distance']}\n",
    "\n",
    "knn_search = GridSearchCV(estimator=knn_tfidf_cv,param_grid=param_grid_knn,scoring='accuracy',n_jobs=-1,cv=5,verbose=1)\n",
    "\n",
    "knn_search.fit(X_train_tfidf,y_train)"
   ]
  },
  {
   "cell_type": "code",
   "execution_count": 89,
   "id": "567e0e93",
   "metadata": {},
   "outputs": [
    {
     "data": {
      "text/plain": [
       "0.9478896631355648"
      ]
     },
     "execution_count": 89,
     "metadata": {},
     "output_type": "execute_result"
    }
   ],
   "source": [
    "knn_search.best_score_"
   ]
  },
  {
   "cell_type": "code",
   "execution_count": 90,
   "id": "d2921630",
   "metadata": {},
   "outputs": [
    {
     "data": {
      "text/plain": [
       "{'n_neighbors': 35, 'weights': 'distance'}"
      ]
     },
     "execution_count": 90,
     "metadata": {},
     "output_type": "execute_result"
    }
   ],
   "source": [
    "knn_search.best_params_"
   ]
  },
  {
   "cell_type": "code",
   "execution_count": 91,
   "id": "bc547432",
   "metadata": {},
   "outputs": [
    {
     "name": "stdout",
     "output_type": "stream",
     "text": [
      "Fitting 5 folds for each of 22 candidates, totalling 110 fits\n"
     ]
    },
    {
     "data": {
      "text/plain": [
       "GridSearchCV(cv=5, estimator=KNeighborsClassifier(), n_jobs=-1,\n",
       "             param_grid={'n_neighbors': [30, 31, 32, 33, 34, 35, 36, 37, 38, 39,\n",
       "                                         40],\n",
       "                         'weights': ['uniform', 'distance']},\n",
       "             scoring='accuracy', verbose=1)"
      ]
     },
     "execution_count": 91,
     "metadata": {},
     "output_type": "execute_result"
    }
   ],
   "source": [
    "param_grid_knn = {'n_neighbors':[30,31,32,33,34,35,36,37,38,39,40],'weights':['uniform','distance']}\n",
    "\n",
    "knn_search = GridSearchCV(estimator=knn_tfidf,param_grid=param_grid_knn,scoring='accuracy',n_jobs=-1,cv=5,verbose=1)\n",
    "\n",
    "knn_search.fit(X_train_tfidf,y_train)"
   ]
  },
  {
   "cell_type": "code",
   "execution_count": 92,
   "id": "0ea876bc",
   "metadata": {},
   "outputs": [
    {
     "data": {
      "text/plain": [
       "0.9495284703481424"
      ]
     },
     "execution_count": 92,
     "metadata": {},
     "output_type": "execute_result"
    }
   ],
   "source": [
    "knn_search.best_score_"
   ]
  },
  {
   "cell_type": "code",
   "execution_count": 93,
   "id": "4fa91aff",
   "metadata": {},
   "outputs": [
    {
     "data": {
      "text/plain": [
       "{'n_neighbors': 31, 'weights': 'distance'}"
      ]
     },
     "execution_count": 93,
     "metadata": {},
     "output_type": "execute_result"
    }
   ],
   "source": [
    "knn_search.best_params_"
   ]
  },
  {
   "cell_type": "markdown",
   "id": "bfa30171",
   "metadata": {},
   "source": [
    "## Hyperparameter tuning for LR tfidf"
   ]
  },
  {
   "cell_type": "code",
   "execution_count": 94,
   "id": "75838db1",
   "metadata": {},
   "outputs": [
    {
     "name": "stderr",
     "output_type": "stream",
     "text": [
      "C:\\Users\\varsh\\anaconda3\\lib\\site-packages\\sklearn\\model_selection\\_search.py:918: UserWarning: One or more of the test scores are non-finite: [       nan 0.97476457        nan 0.97427277        nan 0.97460077\n",
      "        nan 0.97394517        nan 0.97394503        nan 0.97443697]\n",
      "  warnings.warn(\n",
      "C:\\Users\\varsh\\anaconda3\\lib\\site-packages\\sklearn\\linear_model\\_logistic.py:763: ConvergenceWarning: lbfgs failed to converge (status=1):\n",
      "STOP: TOTAL NO. of ITERATIONS REACHED LIMIT.\n",
      "\n",
      "Increase the number of iterations (max_iter) or scale the data as shown in:\n",
      "    https://scikit-learn.org/stable/modules/preprocessing.html\n",
      "Please also refer to the documentation for alternative solver options:\n",
      "    https://scikit-learn.org/stable/modules/linear_model.html#logistic-regression\n",
      "  n_iter_i = _check_optimize_result(\n"
     ]
    },
    {
     "data": {
      "text/plain": [
       "GridSearchCV(cv=5, estimator=LogisticRegression(), n_jobs=-1,\n",
       "             param_grid={'C': [900, 950, 1000, 1100, 1150, 1200],\n",
       "                         'penalty': ['l1', 'l2']},\n",
       "             scoring='accuracy')"
      ]
     },
     "execution_count": 94,
     "metadata": {},
     "output_type": "execute_result"
    }
   ],
   "source": [
    "lr_tfidf_cv = LogisticRegression()\n",
    "param_grid_lr = { 'C' : [900,950,1000,1100,1150,1200],\n",
    "     'penalty' : ['l1', 'l2']}\n",
    "\n",
    "lr_search = GridSearchCV(estimator=lr_tfidf_cv, param_grid=param_grid_lr, scoring='accuracy', n_jobs=-1, cv=5)\n",
    "\n",
    "lr_search.fit(X_train_tfidf,y_train)"
   ]
  },
  {
   "cell_type": "code",
   "execution_count": 95,
   "id": "72702af9",
   "metadata": {},
   "outputs": [
    {
     "data": {
      "text/plain": [
       "{'C': 900, 'penalty': 'l2'}"
      ]
     },
     "execution_count": 95,
     "metadata": {},
     "output_type": "execute_result"
    }
   ],
   "source": [
    "lr_search.best_params_"
   ]
  },
  {
   "cell_type": "code",
   "execution_count": 96,
   "id": "7af2f43a",
   "metadata": {},
   "outputs": [
    {
     "data": {
      "text/plain": [
       "0.9747645708301447"
      ]
     },
     "execution_count": 96,
     "metadata": {},
     "output_type": "execute_result"
    }
   ],
   "source": [
    "lr_search.best_score_"
   ]
  },
  {
   "cell_type": "code",
   "execution_count": 97,
   "id": "e3ebdbcd",
   "metadata": {},
   "outputs": [
    {
     "data": {
      "text/plain": [
       "LogisticRegression(C=900)"
      ]
     },
     "execution_count": 97,
     "metadata": {},
     "output_type": "execute_result"
    }
   ],
   "source": [
    "#best model\n",
    "lr_search.best_estimator_"
   ]
  },
  {
   "cell_type": "code",
   "execution_count": 98,
   "id": "c8eee3fa",
   "metadata": {},
   "outputs": [
    {
     "data": {
      "text/plain": [
       "LogisticRegression(C=900)"
      ]
     },
     "execution_count": 98,
     "metadata": {},
     "output_type": "execute_result"
    }
   ],
   "source": [
    "best_model = LogisticRegression(C = 900 , penalty = 'l2')\n",
    "best_model"
   ]
  },
  {
   "cell_type": "markdown",
   "id": "0deae1d3",
   "metadata": {},
   "source": [
    "## Generating predictions on test data"
   ]
  },
  {
   "cell_type": "code",
   "execution_count": 99,
   "id": "c4f4fec9",
   "metadata": {},
   "outputs": [
    {
     "data": {
      "text/html": [
       "<div>\n",
       "<style scoped>\n",
       "    .dataframe tbody tr th:only-of-type {\n",
       "        vertical-align: middle;\n",
       "    }\n",
       "\n",
       "    .dataframe tbody tr th {\n",
       "        vertical-align: top;\n",
       "    }\n",
       "\n",
       "    .dataframe thead th {\n",
       "        text-align: right;\n",
       "    }\n",
       "</style>\n",
       "<table border=\"1\" class=\"dataframe\">\n",
       "  <thead>\n",
       "    <tr style=\"text-align: right;\">\n",
       "      <th></th>\n",
       "      <th>STORY</th>\n",
       "    </tr>\n",
       "  </thead>\n",
       "  <tbody>\n",
       "    <tr>\n",
       "      <th>0</th>\n",
       "      <td>2019 will see gadgets like gaming smartphones ...</td>\n",
       "    </tr>\n",
       "    <tr>\n",
       "      <th>1</th>\n",
       "      <td>It has also unleashed a wave of changes in the...</td>\n",
       "    </tr>\n",
       "    <tr>\n",
       "      <th>2</th>\n",
       "      <td>It can be confusing to pick the right smartpho...</td>\n",
       "    </tr>\n",
       "    <tr>\n",
       "      <th>3</th>\n",
       "      <td>The mobile application is integrated with a da...</td>\n",
       "    </tr>\n",
       "    <tr>\n",
       "      <th>4</th>\n",
       "      <td>We have rounded up some of the gadgets that sh...</td>\n",
       "    </tr>\n",
       "  </tbody>\n",
       "</table>\n",
       "</div>"
      ],
      "text/plain": [
       "                                               STORY\n",
       "0  2019 will see gadgets like gaming smartphones ...\n",
       "1  It has also unleashed a wave of changes in the...\n",
       "2  It can be confusing to pick the right smartpho...\n",
       "3  The mobile application is integrated with a da...\n",
       "4  We have rounded up some of the gadgets that sh..."
      ]
     },
     "execution_count": 99,
     "metadata": {},
     "output_type": "execute_result"
    }
   ],
   "source": [
    "data_test.head()"
   ]
  },
  {
   "cell_type": "code",
   "execution_count": 100,
   "id": "d553ce66",
   "metadata": {},
   "outputs": [],
   "source": [
    "data_test['clean_story'] = data_test['STORY'].apply(clean_text)"
   ]
  },
  {
   "cell_type": "code",
   "execution_count": 101,
   "id": "4c70707f",
   "metadata": {},
   "outputs": [
    {
     "data": {
      "text/html": [
       "<div>\n",
       "<style scoped>\n",
       "    .dataframe tbody tr th:only-of-type {\n",
       "        vertical-align: middle;\n",
       "    }\n",
       "\n",
       "    .dataframe tbody tr th {\n",
       "        vertical-align: top;\n",
       "    }\n",
       "\n",
       "    .dataframe thead th {\n",
       "        text-align: right;\n",
       "    }\n",
       "</style>\n",
       "<table border=\"1\" class=\"dataframe\">\n",
       "  <thead>\n",
       "    <tr style=\"text-align: right;\">\n",
       "      <th></th>\n",
       "      <th>STORY</th>\n",
       "      <th>clean_story</th>\n",
       "    </tr>\n",
       "  </thead>\n",
       "  <tbody>\n",
       "    <tr>\n",
       "      <th>0</th>\n",
       "      <td>2019 will see gadgets like gaming smartphones ...</td>\n",
       "      <td>see gadget like game smartphones wearable medi...</td>\n",
       "    </tr>\n",
       "    <tr>\n",
       "      <th>1</th>\n",
       "      <td>It has also unleashed a wave of changes in the...</td>\n",
       "      <td>also unleashed wave change mcu make sure futur...</td>\n",
       "    </tr>\n",
       "    <tr>\n",
       "      <th>2</th>\n",
       "      <td>It can be confusing to pick the right smartpho...</td>\n",
       "      <td>confuse pick right smartphone yourself segrega...</td>\n",
       "    </tr>\n",
       "    <tr>\n",
       "      <th>3</th>\n",
       "      <td>The mobile application is integrated with a da...</td>\n",
       "      <td>mobile application integrate dashboard confirm...</td>\n",
       "    </tr>\n",
       "    <tr>\n",
       "      <th>4</th>\n",
       "      <td>We have rounded up some of the gadgets that sh...</td>\n",
       "      <td>round gadget show left indelible mark on consu...</td>\n",
       "    </tr>\n",
       "  </tbody>\n",
       "</table>\n",
       "</div>"
      ],
      "text/plain": [
       "                                               STORY  \\\n",
       "0  2019 will see gadgets like gaming smartphones ...   \n",
       "1  It has also unleashed a wave of changes in the...   \n",
       "2  It can be confusing to pick the right smartpho...   \n",
       "3  The mobile application is integrated with a da...   \n",
       "4  We have rounded up some of the gadgets that sh...   \n",
       "\n",
       "                                         clean_story  \n",
       "0  see gadget like game smartphones wearable medi...  \n",
       "1  also unleashed wave change mcu make sure futur...  \n",
       "2  confuse pick right smartphone yourself segrega...  \n",
       "3  mobile application integrate dashboard confirm...  \n",
       "4  round gadget show left indelible mark on consu...  "
      ]
     },
     "execution_count": 101,
     "metadata": {},
     "output_type": "execute_result"
    }
   ],
   "source": [
    "data_test.head()"
   ]
  },
  {
   "cell_type": "code",
   "execution_count": 102,
   "id": "13cf4c78",
   "metadata": {},
   "outputs": [],
   "source": [
    "tfidf_data_test = tfidf.transform(data_test['clean_story'])"
   ]
  },
  {
   "cell_type": "code",
   "execution_count": 103,
   "id": "3169fe54",
   "metadata": {},
   "outputs": [],
   "source": [
    "data_test_pred = lr_search.best_estimator_.predict(tfidf_data_test)"
   ]
  },
  {
   "cell_type": "code",
   "execution_count": 104,
   "id": "f68b7981",
   "metadata": {},
   "outputs": [
    {
     "data": {
      "text/plain": [
       "array([1, 2, 1, ..., 1, 0, 1], dtype=int64)"
      ]
     },
     "execution_count": 104,
     "metadata": {},
     "output_type": "execute_result"
    }
   ],
   "source": [
    "data_test_pred"
   ]
  },
  {
   "cell_type": "code",
   "execution_count": 105,
   "id": "bd9d23e7",
   "metadata": {},
   "outputs": [],
   "source": [
    "data_test_pred_df = pd.DataFrame(data_test_pred,columns = ['SECTION'])"
   ]
  },
  {
   "cell_type": "code",
   "execution_count": 106,
   "id": "d84e91a5",
   "metadata": {},
   "outputs": [],
   "source": [
    "data_test_pred_df.to_excel('News_Category_Prediction.xlsx',index = False)"
   ]
  },
  {
   "cell_type": "code",
   "execution_count": 107,
   "id": "b5a700b4",
   "metadata": {},
   "outputs": [
    {
     "name": "stdout",
     "output_type": "stream",
     "text": [
      "<class 'pandas.core.frame.DataFrame'>\n",
      "RangeIndex: 2748 entries, 0 to 2747\n",
      "Data columns (total 1 columns):\n",
      " #   Column   Non-Null Count  Dtype\n",
      "---  ------   --------------  -----\n",
      " 0   SECTION  2748 non-null   int64\n",
      "dtypes: int64(1)\n",
      "memory usage: 21.6 KB\n"
     ]
    }
   ],
   "source": [
    "data_test_pred_df.info()"
   ]
  },
  {
   "cell_type": "code",
   "execution_count": 108,
   "id": "e0f2590d",
   "metadata": {},
   "outputs": [
    {
     "data": {
      "text/plain": [
       "(2748, 2)"
      ]
     },
     "execution_count": 108,
     "metadata": {},
     "output_type": "execute_result"
    }
   ],
   "source": [
    "data_test.shape"
   ]
  },
  {
   "cell_type": "code",
   "execution_count": 109,
   "id": "81511c4c",
   "metadata": {},
   "outputs": [
    {
     "data": {
      "text/plain": [
       "2748"
      ]
     },
     "execution_count": 109,
     "metadata": {},
     "output_type": "execute_result"
    }
   ],
   "source": [
    "len(data_test_pred_df)"
   ]
  }
 ],
 "metadata": {
  "kernelspec": {
   "display_name": "Python 3",
   "language": "python",
   "name": "python3"
  },
  "language_info": {
   "codemirror_mode": {
    "name": "ipython",
    "version": 3
   },
   "file_extension": ".py",
   "mimetype": "text/x-python",
   "name": "python",
   "nbconvert_exporter": "python",
   "pygments_lexer": "ipython3",
   "version": "3.8.5"
  }
 },
 "nbformat": 4,
 "nbformat_minor": 5
}
